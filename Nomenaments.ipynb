{
  "cells": [
    {
      "cell_type": "markdown",
      "metadata": {
        "id": "view-in-github",
        "colab_type": "text"
      },
      "source": [
        "<a href=\"https://colab.research.google.com/github/Envivi-git/Nomenaments/blob/main/Nomenaments.ipynb\" target=\"_parent\"><img src=\"https://colab.research.google.com/assets/colab-badge.svg\" alt=\"Open In Colab\"/></a>"
      ]
    },
    {
      "cell_type": "markdown",
      "metadata": {
        "id": "4Lp3qTUROt3S"
      },
      "source": [
        "# Importing libraries, getting data, basic data cleanning"
      ]
    },
    {
      "cell_type": "markdown",
      "metadata": {
        "id": "kYFWvlCTOt3W"
      },
      "source": [
        "## Importing libraries"
      ]
    },
    {
      "cell_type": "code",
      "execution_count": null,
      "metadata": {
        "id": "vXRcr5wzltyM",
        "outputId": "7e3db782-fcbd-4629-f62d-097709c89731"
      },
      "outputs": [
        {
          "data": {
            "text/plain": [
              "'C:\\\\Users\\\\Usuario\\\\AppData\\\\Local\\\\Programs\\\\Python\\\\Python38'"
            ]
          },
          "execution_count": 1,
          "metadata": {},
          "output_type": "execute_result"
        }
      ],
      "source": [
        "import os\n",
        "import sys\n",
        "\n",
        "os.path.dirname(sys.executable)"
      ]
    },
    {
      "cell_type": "markdown",
      "metadata": {
        "id": "ZZUiW5NZltyO"
      },
      "source": [
        "C:\\Users\\Usuario\\AppData\\Local\\Programs\\Python\\Python38\\Lib"
      ]
    },
    {
      "cell_type": "code",
      "execution_count": null,
      "metadata": {
        "id": "DlP0pX1_Ot3X"
      },
      "outputs": [],
      "source": [
        "import pandas as pd\n",
        "import numpy as np\n",
        "import matplotlib.pyplot as plt\n",
        "from matplotlib.pyplot import figure\n",
        "from unicodedata import normalize\n",
        "import pickle\n",
        "import sqlite3\n",
        "import sqlalchemy\n",
        "from datetime import date\n",
        "import time\n",
        "from tqdm import tqdm\n",
        "import re\n",
        "import json\n",
        "from unidecode import  unidecode\n",
        "from urllib.parse import unquote\n",
        "import googlemaps\n"
      ]
    },
    {
      "cell_type": "code",
      "execution_count": null,
      "metadata": {
        "id": "JGnFIgHv_hUk"
      },
      "outputs": [],
      "source": [
        "import requests\n",
        "from urllib.request import Request, urlopen\n",
        "from bs4 import BeautifulSoup as bs"
      ]
    },
    {
      "cell_type": "markdown",
      "metadata": {
        "id": "Qe8zLU_bEWIW"
      },
      "source": [
        "## Functions"
      ]
    },
    {
      "cell_type": "code",
      "execution_count": null,
      "metadata": {
        "id": "YnY9xMXEBwh7"
      },
      "outputs": [],
      "source": [
        "def convert_to_pandas_df(table_html:list):\n",
        "  '''\n",
        "  The function take a list which contains a table read from a html page and transform it into pandas dataFrame\n",
        "  '''\n",
        "\n",
        "  table_html=table_html[0]\n",
        "  header=table_html.iloc[0,:].to_list()\n",
        "  df=table_html.iloc[1:,:]\n",
        "  df.columns=header\n",
        "\n",
        "  return df\n"
      ]
    },
    {
      "cell_type": "code",
      "execution_count": null,
      "metadata": {
        "id": "FE7FHQyZEbG1"
      },
      "outputs": [],
      "source": [
        "def transform_data_type(df_input):\n",
        "  '''\n",
        "  The function return the data with the proper data types\n",
        "  '''\n",
        "  df_output=df_input.copy()\n",
        "  df_output[['data','inici','fi']]=df_input[['data','inici','fi']].apply(pd.to_datetime)\n",
        "  df_output[['n','jor']]=df_input[['n','jor']].apply(pd.to_numeric)\n",
        "  df_output['jornada']=df_output['jor'].apply(lambda x: x if x==1 else (x/100 if x>10 else x/10))\n",
        "  df_output.drop(['jor'], axis=1, inplace=True)\n",
        "  df_output['st']=df_input['st'].apply(pd.to_numeric)\n",
        "  df_output['centre']= df_input['centre'].apply(lambda x: str(x))\n",
        "  df_output['k']= df_input['k'].apply(lambda x: str(x))\n",
        "  df_output['proc']= df_input['proc'].apply(lambda x: str(x))\n",
        "\n",
        "  return df_output\n",
        "\n"
      ]
    },
    {
      "cell_type": "markdown",
      "metadata": {
        "id": "dJ0H1zPvADhj"
      },
      "source": [
        "## Reading data source"
      ]
    },
    {
      "cell_type": "code",
      "execution_count": null,
      "metadata": {
        "id": "nqn340_i_mTL"
      },
      "outputs": [],
      "source": [
        "url=\"https://antiga.sindicat.net/nomenaments/avui/\"\n",
        "headers = {'User-Agent': 'Mozilla/5.0 (Windows NT 10.0; Win64; x64; rv:80.0) Gecko/20100101 Firefox/80.0'}\n",
        "page = requests.get(url, headers=headers)\n",
        "contenido = bs(page.content)"
      ]
    },
    {
      "cell_type": "code",
      "execution_count": null,
      "metadata": {
        "id": "ZHfWJ5y9AwjU"
      },
      "outputs": [],
      "source": [
        "#getting data\n",
        "links=contenido.find(\"div\", attrs={\"id\":\"apDiv1\"}).find_all(\"a\")"
      ]
    },
    {
      "cell_type": "code",
      "execution_count": null,
      "metadata": {
        "id": "CUi7ilD1A5eV",
        "outputId": "cc6463c2-6c4d-40c0-c389-139a122e875e"
      },
      "outputs": [
        {
          "name": "stderr",
          "output_type": "stream",
          "text": [
            "100%|██████████| 63/63 [00:00<?, ?it/s]\n"
          ]
        }
      ],
      "source": [
        "links_dict = {}\n",
        "\n",
        "for i in tqdm(links):\n",
        "  k = i.string\n",
        "  v = i[\"href\"]\n",
        "  links_dict[k]=v\n",
        "\n",
        "last_data={links[0].string:links[0][\"href\"]}"
      ]
    },
    {
      "cell_type": "markdown",
      "metadata": {
        "id": "i2daKDHHOt3a"
      },
      "source": [
        "### Getting all the data"
      ]
    },
    {
      "cell_type": "code",
      "execution_count": null,
      "metadata": {
        "id": "8-6YqJ4jR52Q",
        "outputId": "2bfff827-1341-4aea-9741-c1fb8a01dc13"
      },
      "outputs": [
        {
          "name": "stderr",
          "output_type": "stream",
          "text": [
            "100%|██████████| 63/63 [01:49<00:00,  1.74s/it]\n"
          ]
        }
      ],
      "source": [
        "for k,v in tqdm(links_dict.items()):\n",
        "  links_dict[k]=[v,pd.read_html(v,encoding=\"UTF-8\")]"
      ]
    },
    {
      "cell_type": "markdown",
      "metadata": {
        "id": "wCmTW4dlTPeR"
      },
      "source": [
        "### Getting data from the last day"
      ]
    },
    {
      "cell_type": "code",
      "execution_count": null,
      "metadata": {
        "id": "wxmmZ0UiTYoJ"
      },
      "outputs": [],
      "source": [
        "k = list(last_data.keys())[0]\n",
        "last_data[k] = [last_data[k], pd.read_html(last_data[k],encoding=\"UTF-8\")]"
      ]
    },
    {
      "cell_type": "markdown",
      "metadata": {
        "id": "QBWflBzIU2aC"
      },
      "source": [
        "### Visualize some data"
      ]
    },
    {
      "cell_type": "code",
      "execution_count": null,
      "metadata": {
        "id": "CrekGk7bltyk",
        "outputId": "f8a816de-d56e-4877-e00d-0ff870d48740"
      },
      "outputs": [
        {
          "data": {
            "text/html": [
              "<div>\n",
              "<style scoped>\n",
              "    .dataframe tbody tr th:only-of-type {\n",
              "        vertical-align: middle;\n",
              "    }\n",
              "\n",
              "    .dataframe tbody tr th {\n",
              "        vertical-align: top;\n",
              "    }\n",
              "\n",
              "    .dataframe thead th {\n",
              "        text-align: right;\n",
              "    }\n",
              "</style>\n",
              "<table border=\"1\" class=\"dataframe\">\n",
              "  <thead>\n",
              "    <tr style=\"text-align: right;\">\n",
              "      <th></th>\n",
              "      <th>st</th>\n",
              "      <th>data</th>\n",
              "      <th>n</th>\n",
              "      <th>centre</th>\n",
              "      <th>jor</th>\n",
              "      <th>inici</th>\n",
              "      <th>fi</th>\n",
              "      <th>k</th>\n",
              "      <th>proc</th>\n",
              "    </tr>\n",
              "  </thead>\n",
              "  <tbody>\n",
              "    <tr>\n",
              "      <th>1</th>\n",
              "      <td>1</td>\n",
              "      <td>22/07/2021</td>\n",
              "      <td>2220</td>\n",
              "      <td>EOI Barcelona IV</td>\n",
              "      <td>05</td>\n",
              "      <td>01/09/2021</td>\n",
              "      <td>31/08/2022</td>\n",
              "      <td>133</td>\n",
              "      <td>ae</td>\n",
              "    </tr>\n",
              "    <tr>\n",
              "      <th>2</th>\n",
              "      <td>1</td>\n",
              "      <td>22/07/2021</td>\n",
              "      <td>28706</td>\n",
              "      <td>EOI Barcelona-Vall d'Hebron</td>\n",
              "      <td>1</td>\n",
              "      <td>01/09/2021</td>\n",
              "      <td>31/08/2022</td>\n",
              "      <td>133</td>\n",
              "      <td>ae</td>\n",
              "    </tr>\n",
              "    <tr>\n",
              "      <th>3</th>\n",
              "      <td>1</td>\n",
              "      <td>22/07/2021</td>\n",
              "      <td>456</td>\n",
              "      <td>EOI Barcelona-Vall d'Hebron</td>\n",
              "      <td>1</td>\n",
              "      <td>01/09/2021</td>\n",
              "      <td>31/08/2022</td>\n",
              "      <td>133</td>\n",
              "      <td>ae</td>\n",
              "    </tr>\n",
              "    <tr>\n",
              "      <th>4</th>\n",
              "      <td>1</td>\n",
              "      <td>22/07/2021</td>\n",
              "      <td>8019</td>\n",
              "      <td>EOI de Barcelona</td>\n",
              "      <td>1</td>\n",
              "      <td>01/09/2021</td>\n",
              "      <td>31/08/2022</td>\n",
              "      <td>133</td>\n",
              "      <td>ae</td>\n",
              "    </tr>\n",
              "    <tr>\n",
              "      <th>5</th>\n",
              "      <td>1</td>\n",
              "      <td>22/07/2021</td>\n",
              "      <td>6707</td>\n",
              "      <td>EOI de Barcelona</td>\n",
              "      <td>1</td>\n",
              "      <td>01/09/2021</td>\n",
              "      <td>31/08/2022</td>\n",
              "      <td>133</td>\n",
              "      <td>ae</td>\n",
              "    </tr>\n",
              "  </tbody>\n",
              "</table>\n",
              "</div>"
            ],
            "text/plain": [
              "  st        data      n                       centre jor       inici  \\\n",
              "1  1  22/07/2021   2220             EOI Barcelona IV  05  01/09/2021   \n",
              "2  1  22/07/2021  28706  EOI Barcelona-Vall d'Hebron   1  01/09/2021   \n",
              "3  1  22/07/2021    456  EOI Barcelona-Vall d'Hebron   1  01/09/2021   \n",
              "4  1  22/07/2021   8019             EOI de Barcelona   1  01/09/2021   \n",
              "5  1  22/07/2021   6707             EOI de Barcelona   1  01/09/2021   \n",
              "\n",
              "           fi    k proc  \n",
              "1  31/08/2022  133   ae  \n",
              "2  31/08/2022  133   ae  \n",
              "3  31/08/2022  133   ae  \n",
              "4  31/08/2022  133   ae  \n",
              "5  31/08/2022  133   ae  "
            ]
          },
          "execution_count": 13,
          "metadata": {},
          "output_type": "execute_result"
        }
      ],
      "source": [
        "ascending_days = list(links_dict.keys())[::-1]\n",
        "df = convert_to_pandas_df(links_dict[ascending_days[0]][1])\n",
        "df.head()"
      ]
    },
    {
      "cell_type": "markdown",
      "metadata": {
        "id": "PSF-iul5ltyl"
      },
      "source": [
        "#### st = servei territorial"
      ]
    },
    {
      "cell_type": "code",
      "execution_count": null,
      "metadata": {
        "id": "EXtgKE0cltyl",
        "outputId": "9e9dec4a-1ee4-48a9-dc17-c6f713237d9a"
      },
      "outputs": [
        {
          "data": {
            "text/html": [
              "<div>\n",
              "<style scoped>\n",
              "    .dataframe tbody tr th:only-of-type {\n",
              "        vertical-align: middle;\n",
              "    }\n",
              "\n",
              "    .dataframe tbody tr th {\n",
              "        vertical-align: top;\n",
              "    }\n",
              "\n",
              "    .dataframe thead th {\n",
              "        text-align: right;\n",
              "    }\n",
              "</style>\n",
              "<table border=\"1\" class=\"dataframe\">\n",
              "  <thead>\n",
              "    <tr style=\"text-align: right;\">\n",
              "      <th></th>\n",
              "      <th>key</th>\n",
              "      <th>servei_territorial</th>\n",
              "    </tr>\n",
              "  </thead>\n",
              "  <tbody>\n",
              "    <tr>\n",
              "      <th>0</th>\n",
              "      <td>1</td>\n",
              "      <td>Barcelona Consorci</td>\n",
              "    </tr>\n",
              "    <tr>\n",
              "      <th>1</th>\n",
              "      <td>2</td>\n",
              "      <td>Barcelona Comarques</td>\n",
              "    </tr>\n",
              "    <tr>\n",
              "      <th>2</th>\n",
              "      <td>3</td>\n",
              "      <td>Baix Llobregat</td>\n",
              "    </tr>\n",
              "    <tr>\n",
              "      <th>3</th>\n",
              "      <td>4</td>\n",
              "      <td>Vallès Occidental</td>\n",
              "    </tr>\n",
              "    <tr>\n",
              "      <th>4</th>\n",
              "      <td>5</td>\n",
              "      <td>Maresme Vallès Or</td>\n",
              "    </tr>\n",
              "    <tr>\n",
              "      <th>5</th>\n",
              "      <td>6</td>\n",
              "      <td>6 Catalunya Central</td>\n",
              "    </tr>\n",
              "    <tr>\n",
              "      <th>6</th>\n",
              "      <td>17</td>\n",
              "      <td>Girona</td>\n",
              "    </tr>\n",
              "    <tr>\n",
              "      <th>7</th>\n",
              "      <td>25</td>\n",
              "      <td>Lleida</td>\n",
              "    </tr>\n",
              "    <tr>\n",
              "      <th>8</th>\n",
              "      <td>43</td>\n",
              "      <td>Tarragona</td>\n",
              "    </tr>\n",
              "    <tr>\n",
              "      <th>9</th>\n",
              "      <td>44</td>\n",
              "      <td>Terres de l'Ebre</td>\n",
              "    </tr>\n",
              "  </tbody>\n",
              "</table>\n",
              "</div>"
            ],
            "text/plain": [
              "   key   servei_territorial\n",
              "0    1   Barcelona Consorci\n",
              "1    2  Barcelona Comarques\n",
              "2    3       Baix Llobregat\n",
              "3    4    Vallès Occidental\n",
              "4    5    Maresme Vallès Or\n",
              "5    6  6 Catalunya Central\n",
              "6   17               Girona\n",
              "7   25               Lleida\n",
              "8   43            Tarragona\n",
              "9   44     Terres de l'Ebre"
            ]
          },
          "execution_count": 5,
          "metadata": {},
          "output_type": "execute_result"
        }
      ],
      "source": [
        "st_dict={1:'Barcelona Consorci',2:'Barcelona Comarques', 3:\"Baix Llobregat\",4:\"Vallès Occidental\", 5:\"Maresme Vallès Or\",6:\"6 Catalunya Central\",\n",
        "       17:\"Girona\",25:\" Lleida\",43:\"Tarragona\",44:\"Terres de l'Ebre\"}\n",
        "\n",
        "df_st = pd.DataFrame.from_dict(st_dict,orient=\"index\",columns=['st']).reset_index()\n",
        "df_st.columns=['key','servei_territorial']\n",
        "df_st\n"
      ]
    },
    {
      "cell_type": "markdown",
      "metadata": {
        "id": "4Y4wWFqXltyl"
      },
      "source": [
        "#### k = procediment"
      ]
    },
    {
      "cell_type": "code",
      "execution_count": null,
      "metadata": {
        "id": "gKUi_Lhyltym",
        "outputId": "9e8a29ba-4574-4a23-d1a4-2b219a339e99"
      },
      "outputs": [
        {
          "data": {
            "text/html": [
              "<div>\n",
              "<style scoped>\n",
              "    .dataframe tbody tr th:only-of-type {\n",
              "        vertical-align: middle;\n",
              "    }\n",
              "\n",
              "    .dataframe tbody tr th {\n",
              "        vertical-align: top;\n",
              "    }\n",
              "\n",
              "    .dataframe thead th {\n",
              "        text-align: right;\n",
              "    }\n",
              "</style>\n",
              "<table border=\"1\" class=\"dataframe\">\n",
              "  <thead>\n",
              "    <tr style=\"text-align: right;\">\n",
              "      <th></th>\n",
              "      <th>key</th>\n",
              "      <th>procediment</th>\n",
              "    </tr>\n",
              "  </thead>\n",
              "  <tbody>\n",
              "    <tr>\n",
              "      <th>0</th>\n",
              "      <td>nt</td>\n",
              "      <td>nomenament telemàtic</td>\n",
              "    </tr>\n",
              "    <tr>\n",
              "      <th>1</th>\n",
              "      <td>dif</td>\n",
              "      <td>adjudicacions de difícil cobertura</td>\n",
              "    </tr>\n",
              "    <tr>\n",
              "      <th>2</th>\n",
              "      <td>urg</td>\n",
              "      <td>adjudicacions de procediment d'urgència</td>\n",
              "    </tr>\n",
              "    <tr>\n",
              "      <th>3</th>\n",
              "      <td>dir</td>\n",
              "      <td>selecció per part dels directors</td>\n",
              "    </tr>\n",
              "  </tbody>\n",
              "</table>\n",
              "</div>"
            ],
            "text/plain": [
              "   key                              procediment\n",
              "0   nt                     nomenament telemàtic\n",
              "1  dif       adjudicacions de difícil cobertura\n",
              "2  urg  adjudicacions de procediment d'urgència\n",
              "3  dir         selecció per part dels directors"
            ]
          },
          "execution_count": 4,
          "metadata": {},
          "output_type": "execute_result"
        }
      ],
      "source": [
        "dict_k={'nt': 'nomenament telemàtic','dif': 'adjudicacions de difícil cobertura','urg': \"adjudicacions de procediment d'urgència\",\n",
        "        \"dir\": \"selecció per part dels directors\" }\n",
        "df_k = pd.DataFrame.from_dict(dict_k,orient=\"index\",columns=['procediment']).reset_index()\n",
        "df_k.columns=['key','procediment']\n",
        "df_k"
      ]
    },
    {
      "cell_type": "markdown",
      "metadata": {
        "id": "jofeVGiDOt3e"
      },
      "source": [
        "## Data selection\n",
        "\n",
        "I am interested to know what happens at the first 15 “Nomenaments”. All the people selected in this time window will be working the whole year.\n",
        "\n",
        "In addition, I will also store all the data."
      ]
    },
    {
      "cell_type": "code",
      "execution_count": null,
      "metadata": {
        "id": "ekKn8wydltym"
      },
      "outputs": [],
      "source": [
        "# 15 first Nomenaments\n",
        "data = [convert_to_pandas_df(links_dict[i][1]) for i in ascending_days[:15]]\n",
        "\n",
        "#All data\n",
        "data_complete = [convert_to_pandas_df(links_dict[i][1]) for i in ascending_days]\n"
      ]
    },
    {
      "cell_type": "code",
      "execution_count": null,
      "metadata": {
        "id": "4SPzmJ1qltyn"
      },
      "outputs": [],
      "source": [
        "with open('data_to_inici.pickle', 'wb') as handle:\n",
        "    pickle.dump(data_complete, handle)"
      ]
    },
    {
      "cell_type": "code",
      "execution_count": null,
      "metadata": {
        "id": "9o-3FLRVltyo"
      },
      "outputs": [],
      "source": [
        "df_inici_nomenament=pd.merge(df_inici,df_st, how=\"left\", on='st')"
      ]
    },
    {
      "cell_type": "code",
      "execution_count": null,
      "metadata": {
        "id": "N31TQg8zltyo"
      },
      "outputs": [],
      "source": [
        "df_inici_nomenament.to_csv('data_nomenaments_inici.csv')"
      ]
    },
    {
      "cell_type": "markdown",
      "metadata": {
        "id": "gzTtzdQrltyo"
      },
      "source": [
        "## Data cleasing"
      ]
    },
    {
      "cell_type": "markdown",
      "metadata": {
        "id": "Y_eNQzFjOt3f"
      },
      "source": [
        "### Looking for duplicates"
      ]
    },
    {
      "cell_type": "code",
      "execution_count": null,
      "metadata": {
        "colab": {
          "base_uri": "https://localhost:8080/"
        },
        "id": "Bs8vFhFYEDzP",
        "outputId": "d5bf4545-5f53-43db-9f68-82b6ea0d4233"
      },
      "outputs": [
        {
          "name": "stdout",
          "output_type": "stream",
          "text": [
            "[0, 0, 0, 3, 0, 0, 0, 0, 0, 0, 0, 0, 0, 0, 0]\n",
            "[0, 0, 0, 3, 0, 0, 0, 0, 0, 0, 0, 0, 0, 0, 0, 0, 0, 0, 0, 0, 0, 0, 0, 0, 0, 0, 2, 0, 0, 0, 0, 0, 0, 0, 0, 0, 0, 0, 0, 0, 0, 0, 0, 0, 0, 0, 0, 0, 0, 0, 0, 0, 0, 0, 0, 0, 0, 0, 0, 0, 0, 0, 0]\n"
          ]
        }
      ],
      "source": [
        "print([i.duplicated().sum() for i in data])\n",
        "print([i.duplicated().sum() for i in data_complete])"
      ]
    },
    {
      "cell_type": "code",
      "execution_count": null,
      "metadata": {
        "id": "-3HbYgoHltyp"
      },
      "outputs": [],
      "source": [
        "#Drop dulicated data\n",
        "for j in [i.duplicated().sum() for i in data_complete]:\n",
        "    if j !=0:\n",
        "        data_complete[j] = data_complete[j].drop_duplicates(keep=False)"
      ]
    },
    {
      "cell_type": "markdown",
      "metadata": {
        "id": "wzcwAZgkOt3l"
      },
      "source": [
        "### checking for bad date formats"
      ]
    },
    {
      "cell_type": "code",
      "execution_count": null,
      "metadata": {
        "colab": {
          "base_uri": "https://localhost:8080/"
        },
        "id": "qVXTcTS0Ot3o",
        "outputId": "5d730b62-e86a-4086-a3b3-592abba31b1c"
      },
      "outputs": [
        {
          "name": "stderr",
          "output_type": "stream",
          "text": [
            "  6%|▋         | 4/63 [00:21<03:48,  3.87s/it]"
          ]
        },
        {
          "name": "stdout",
          "output_type": "stream",
          "text": [
            "4 46\n"
          ]
        },
        {
          "name": "stderr",
          "output_type": "stream",
          "text": [
            " 32%|███▏      | 20/63 [00:26<00:13,  3.20it/s]"
          ]
        },
        {
          "name": "stdout",
          "output_type": "stream",
          "text": [
            "20 23\n"
          ]
        },
        {
          "name": "stderr",
          "output_type": "stream",
          "text": [
            " 68%|██████▊   | 43/63 [00:29<00:02,  7.84it/s]"
          ]
        },
        {
          "name": "stdout",
          "output_type": "stream",
          "text": [
            "42 107\n"
          ]
        },
        {
          "name": "stderr",
          "output_type": "stream",
          "text": [
            " 75%|███████▍  | 47/63 [00:29<00:01,  8.66it/s]"
          ]
        },
        {
          "name": "stdout",
          "output_type": "stream",
          "text": [
            "47 15\n"
          ]
        },
        {
          "name": "stderr",
          "output_type": "stream",
          "text": [
            "100%|██████████| 63/63 [00:32<00:00,  1.96it/s]"
          ]
        },
        {
          "name": "stdout",
          "output_type": "stream",
          "text": [
            "62 0\n"
          ]
        },
        {
          "name": "stderr",
          "output_type": "stream",
          "text": [
            "\n"
          ]
        }
      ],
      "source": [
        "n=0\n",
        "for df in tqdm(data_complete):\n",
        "    df=df[['data','inici','fi']]\n",
        "    for index_ in range(len(df)):\n",
        "        try:\n",
        "            df.iloc[index_].apply(pd.to_datetime)\n",
        "        except:\n",
        "            print(n,index_)\n",
        "\n",
        "    n= n+1"
      ]
    },
    {
      "cell_type": "markdown",
      "metadata": {
        "id": "VFsX-Jz3ltyq"
      },
      "source": [
        "Checking the formats individually and correcting data"
      ]
    },
    {
      "cell_type": "markdown",
      "metadata": {
        "id": "8ymFkFZLltyq"
      },
      "source": [
        "#### case 1"
      ]
    },
    {
      "cell_type": "code",
      "execution_count": null,
      "metadata": {
        "id": "qlWvG4LKltyr",
        "outputId": "7aa45a85-013f-404d-8200-3c2863dd88ae"
      },
      "outputs": [
        {
          "data": {
            "text/plain": [
              "data      02/09/2021\n",
              "inici     02/09/2021\n",
              "fi       30/06/22022\n",
              "Name: 47, dtype: object"
            ]
          },
          "execution_count": 23,
          "metadata": {},
          "output_type": "execute_result"
        }
      ],
      "source": [
        "data_complete[4][['data','inici','fi']].iloc[46]\n"
      ]
    },
    {
      "cell_type": "code",
      "execution_count": null,
      "metadata": {
        "id": "zykUcqDFltyr"
      },
      "outputs": [],
      "source": [
        "data_complete[4].at[47,'fi'] ='30/06/2022'"
      ]
    },
    {
      "cell_type": "code",
      "execution_count": null,
      "metadata": {
        "id": "LbHWAJNkltys",
        "outputId": "15a42a6a-a4dc-4735-a2f8-653a309dffc6"
      },
      "outputs": [
        {
          "data": {
            "text/plain": [
              "data     02/09/2021\n",
              "inici    02/09/2021\n",
              "fi       30/06/2022\n",
              "Name: 47, dtype: object"
            ]
          },
          "execution_count": 25,
          "metadata": {},
          "output_type": "execute_result"
        }
      ],
      "source": [
        "data_complete[4][['data','inici','fi']].iloc[46]"
      ]
    },
    {
      "cell_type": "markdown",
      "metadata": {
        "id": "mQb3firGltys"
      },
      "source": [
        "#### case 2"
      ]
    },
    {
      "cell_type": "code",
      "execution_count": null,
      "metadata": {
        "id": "H0DoeFDDltyt",
        "outputId": "498d17c1-ab11-4690-eced-7c14493ba55f"
      },
      "outputs": [
        {
          "data": {
            "text/plain": [
              "data     23/09/2021\n",
              "inici    23/09/2021\n",
              "fi       01.11.21 I\n",
              "Name: 24, dtype: object"
            ]
          },
          "execution_count": 26,
          "metadata": {},
          "output_type": "execute_result"
        }
      ],
      "source": [
        "data_complete[20][['data','inici','fi']].iloc[23]"
      ]
    },
    {
      "cell_type": "code",
      "execution_count": null,
      "metadata": {
        "id": "_THRDICEltyt"
      },
      "outputs": [],
      "source": [
        "data_complete[20].at[24,'fi'] ='01/11/2021'"
      ]
    },
    {
      "cell_type": "code",
      "execution_count": null,
      "metadata": {
        "id": "aRikrPjbltyt",
        "outputId": "d217cba4-06d2-48bc-df0c-bc6df4dfc683"
      },
      "outputs": [
        {
          "data": {
            "text/plain": [
              "data     23/09/2021\n",
              "inici    23/09/2021\n",
              "fi       01/11/2021\n",
              "Name: 24, dtype: object"
            ]
          },
          "execution_count": 29,
          "metadata": {},
          "output_type": "execute_result"
        }
      ],
      "source": [
        "data_complete[20][['data','inici','fi']].iloc[23]"
      ]
    },
    {
      "cell_type": "markdown",
      "metadata": {
        "id": "Diu6euD7ltyu"
      },
      "source": [
        "#### case 3"
      ]
    },
    {
      "cell_type": "code",
      "execution_count": null,
      "metadata": {
        "id": "lny1YVirltyu",
        "outputId": "cf9acc0d-61dc-4f10-d373-bcdedf868fc0"
      },
      "outputs": [
        {
          "data": {
            "text/plain": [
              "data     25/10/2021\n",
              "inici    25/10/2021\n",
              "fi        22/102021\n",
              "Name: 108, dtype: object"
            ]
          },
          "execution_count": 30,
          "metadata": {},
          "output_type": "execute_result"
        }
      ],
      "source": [
        "data_complete[42][['data','inici','fi']].iloc[107]"
      ]
    },
    {
      "cell_type": "code",
      "execution_count": null,
      "metadata": {
        "id": "4ZSmykLjltyu"
      },
      "outputs": [],
      "source": [
        "data_complete[42].at[108,'fi'] ='22/10/2021'"
      ]
    },
    {
      "cell_type": "code",
      "execution_count": null,
      "metadata": {
        "id": "qHKpFAK1ltyv",
        "outputId": "3cfe7d3f-433a-4089-a0d4-03b7aeb3afd1"
      },
      "outputs": [
        {
          "data": {
            "text/plain": [
              "data     25/10/2021\n",
              "inici    25/10/2021\n",
              "fi       22/10/2021\n",
              "Name: 108, dtype: object"
            ]
          },
          "execution_count": 32,
          "metadata": {},
          "output_type": "execute_result"
        }
      ],
      "source": [
        "data_complete[42][['data','inici','fi']].iloc[107]"
      ]
    },
    {
      "cell_type": "markdown",
      "metadata": {
        "id": "MDfJdvL9ltyv"
      },
      "source": [
        "#### case 4"
      ]
    },
    {
      "cell_type": "code",
      "execution_count": null,
      "metadata": {
        "id": "lXnH-eowltyv",
        "outputId": "d61f1608-4a1b-4dee-98d6-f12afadb073f"
      },
      "outputs": [
        {
          "data": {
            "text/plain": [
              "data      02/11/2021\n",
              "inici     02/11/2021\n",
              "fi       18/11/20211\n",
              "Name: 16, dtype: object"
            ]
          },
          "execution_count": 33,
          "metadata": {},
          "output_type": "execute_result"
        }
      ],
      "source": [
        "data_complete[47][['data','inici','fi']].iloc[15]"
      ]
    },
    {
      "cell_type": "code",
      "execution_count": null,
      "metadata": {
        "id": "JAiPYzDEltyw"
      },
      "outputs": [],
      "source": [
        "data_complete[47].at[16,'fi'] ='18/11/2021'"
      ]
    },
    {
      "cell_type": "code",
      "execution_count": null,
      "metadata": {
        "id": "6XlpEU30ltyy",
        "outputId": "d6d5fa1c-dfc6-42dc-90b1-7d9bd81bd92c"
      },
      "outputs": [
        {
          "data": {
            "text/plain": [
              "data     02/11/2021\n",
              "inici    02/11/2021\n",
              "fi       18/11/2021\n",
              "Name: 16, dtype: object"
            ]
          },
          "execution_count": 35,
          "metadata": {},
          "output_type": "execute_result"
        }
      ],
      "source": [
        "data_complete[47][['data','inici','fi']].iloc[15]"
      ]
    },
    {
      "cell_type": "markdown",
      "metadata": {
        "id": "FWLWONlaltyy"
      },
      "source": [
        "#### case 5"
      ]
    },
    {
      "cell_type": "code",
      "execution_count": null,
      "metadata": {
        "id": "egi8HxeNltyy",
        "outputId": "c67b9481-e5ef-47cd-bbdd-9d9952742154"
      },
      "outputs": [
        {
          "data": {
            "text/plain": [
              "data            17/12/2021\n",
              "inici           17/12/2021\n",
              "fi       Camps Gámez,Roger\n",
              "Name: 1, dtype: object"
            ]
          },
          "execution_count": 36,
          "metadata": {},
          "output_type": "execute_result"
        }
      ],
      "source": [
        "data_complete[62][['data','inici','fi']].iloc[0]"
      ]
    },
    {
      "cell_type": "code",
      "execution_count": null,
      "metadata": {
        "id": "3tIcgunfltyz"
      },
      "outputs": [],
      "source": [
        "#This case its marked by given a fi lower than inici. \n",
        "# Therefore, when time interval is calculated, the data point will be rejected because will be giving a negative time interval\n",
        "data_complete[62].at[1,'fi'] ='17/12/2020'"
      ]
    },
    {
      "cell_type": "code",
      "execution_count": null,
      "metadata": {
        "id": "DW50Xnd_ltyz",
        "outputId": "e035519e-c890-4334-df4e-8b3cc255f95c"
      },
      "outputs": [
        {
          "data": {
            "text/plain": [
              "data     17/12/2021\n",
              "inici    17/12/2021\n",
              "fi       17/12/2020\n",
              "Name: 1, dtype: object"
            ]
          },
          "execution_count": 39,
          "metadata": {},
          "output_type": "execute_result"
        }
      ],
      "source": [
        "data_complete[62][['data','inici','fi']].iloc[0]"
      ]
    },
    {
      "cell_type": "markdown",
      "metadata": {
        "id": "uMWF6hEdlty0"
      },
      "source": [
        "### Transform data types"
      ]
    },
    {
      "cell_type": "code",
      "execution_count": null,
      "metadata": {
        "id": "H-uhM9jfyLTJ"
      },
      "outputs": [],
      "source": [
        "data=[transform_data_type(i) for i in data]\n",
        "data_complete=[transform_data_type(i) for i in data_complete]"
      ]
    },
    {
      "cell_type": "code",
      "execution_count": null,
      "metadata": {
        "id": "oQ1kQYY6lty1",
        "outputId": "9c366e0e-96c6-4867-ddbd-3d9eec197de3"
      },
      "outputs": [
        {
          "data": {
            "text/html": [
              "<div>\n",
              "<style scoped>\n",
              "    .dataframe tbody tr th:only-of-type {\n",
              "        vertical-align: middle;\n",
              "    }\n",
              "\n",
              "    .dataframe tbody tr th {\n",
              "        vertical-align: top;\n",
              "    }\n",
              "\n",
              "    .dataframe thead th {\n",
              "        text-align: right;\n",
              "    }\n",
              "</style>\n",
              "<table border=\"1\" class=\"dataframe\">\n",
              "  <thead>\n",
              "    <tr style=\"text-align: right;\">\n",
              "      <th></th>\n",
              "      <th>st</th>\n",
              "      <th>data</th>\n",
              "      <th>n</th>\n",
              "      <th>centre</th>\n",
              "      <th>inici</th>\n",
              "      <th>fi</th>\n",
              "      <th>k</th>\n",
              "      <th>proc</th>\n",
              "      <th>jornada</th>\n",
              "    </tr>\n",
              "  </thead>\n",
              "  <tbody>\n",
              "    <tr>\n",
              "      <th>1</th>\n",
              "      <td>1</td>\n",
              "      <td>2021-07-22</td>\n",
              "      <td>2220</td>\n",
              "      <td>EOI Barcelona IV</td>\n",
              "      <td>2021-01-09</td>\n",
              "      <td>2022-08-31</td>\n",
              "      <td>133</td>\n",
              "      <td>ae</td>\n",
              "      <td>0.5</td>\n",
              "    </tr>\n",
              "    <tr>\n",
              "      <th>2</th>\n",
              "      <td>1</td>\n",
              "      <td>2021-07-22</td>\n",
              "      <td>28706</td>\n",
              "      <td>EOI Barcelona-Vall d'Hebron</td>\n",
              "      <td>2021-01-09</td>\n",
              "      <td>2022-08-31</td>\n",
              "      <td>133</td>\n",
              "      <td>ae</td>\n",
              "      <td>1.0</td>\n",
              "    </tr>\n",
              "    <tr>\n",
              "      <th>3</th>\n",
              "      <td>1</td>\n",
              "      <td>2021-07-22</td>\n",
              "      <td>456</td>\n",
              "      <td>EOI Barcelona-Vall d'Hebron</td>\n",
              "      <td>2021-01-09</td>\n",
              "      <td>2022-08-31</td>\n",
              "      <td>133</td>\n",
              "      <td>ae</td>\n",
              "      <td>1.0</td>\n",
              "    </tr>\n",
              "    <tr>\n",
              "      <th>4</th>\n",
              "      <td>1</td>\n",
              "      <td>2021-07-22</td>\n",
              "      <td>8019</td>\n",
              "      <td>EOI de Barcelona</td>\n",
              "      <td>2021-01-09</td>\n",
              "      <td>2022-08-31</td>\n",
              "      <td>133</td>\n",
              "      <td>ae</td>\n",
              "      <td>1.0</td>\n",
              "    </tr>\n",
              "    <tr>\n",
              "      <th>5</th>\n",
              "      <td>1</td>\n",
              "      <td>2021-07-22</td>\n",
              "      <td>6707</td>\n",
              "      <td>EOI de Barcelona</td>\n",
              "      <td>2021-01-09</td>\n",
              "      <td>2022-08-31</td>\n",
              "      <td>133</td>\n",
              "      <td>ae</td>\n",
              "      <td>1.0</td>\n",
              "    </tr>\n",
              "  </tbody>\n",
              "</table>\n",
              "</div>"
            ],
            "text/plain": [
              "   st       data      n                       centre      inici         fi  \\\n",
              "1   1 2021-07-22   2220             EOI Barcelona IV 2021-01-09 2022-08-31   \n",
              "2   1 2021-07-22  28706  EOI Barcelona-Vall d'Hebron 2021-01-09 2022-08-31   \n",
              "3   1 2021-07-22    456  EOI Barcelona-Vall d'Hebron 2021-01-09 2022-08-31   \n",
              "4   1 2021-07-22   8019             EOI de Barcelona 2021-01-09 2022-08-31   \n",
              "5   1 2021-07-22   6707             EOI de Barcelona 2021-01-09 2022-08-31   \n",
              "\n",
              "     k proc  jornada  \n",
              "1  133   ae      0.5  \n",
              "2  133   ae      1.0  \n",
              "3  133   ae      1.0  \n",
              "4  133   ae      1.0  \n",
              "5  133   ae      1.0  "
            ]
          },
          "execution_count": 41,
          "metadata": {},
          "output_type": "execute_result"
        }
      ],
      "source": [
        "data[0].head()"
      ]
    },
    {
      "cell_type": "code",
      "execution_count": null,
      "metadata": {
        "id": "xpByxRp_lty1"
      },
      "outputs": [],
      "source": [
        "with open('data_inici_clean.pickle', 'wb') as handle:\n",
        "    pickle.dump(data, handle)"
      ]
    },
    {
      "cell_type": "code",
      "execution_count": null,
      "metadata": {
        "id": "tD_TFuuTlty2"
      },
      "outputs": [],
      "source": [
        "with open('data_complete_clean.pickle', 'wb') as handle:\n",
        "    pickle.dump(data_complete, handle)"
      ]
    },
    {
      "cell_type": "code",
      "execution_count": null,
      "metadata": {
        "id": "kaRRMD9klty2"
      },
      "outputs": [],
      "source": [
        "data_complete=pd.read_pickle('data_complete_clean.pickle')"
      ]
    },
    {
      "cell_type": "code",
      "execution_count": null,
      "metadata": {
        "id": "VuO0fWpYlty2"
      },
      "outputs": [],
      "source": [
        "data_complete = pd.concat(data_complete)"
      ]
    },
    {
      "cell_type": "code",
      "execution_count": null,
      "metadata": {
        "id": "tiTw4I24lty3",
        "outputId": "038e3dab-ec59-4edd-ec83-adfa1a1a6e0e"
      },
      "outputs": [
        {
          "data": {
            "text/html": [
              "<div>\n",
              "<style scoped>\n",
              "    .dataframe tbody tr th:only-of-type {\n",
              "        vertical-align: middle;\n",
              "    }\n",
              "\n",
              "    .dataframe tbody tr th {\n",
              "        vertical-align: top;\n",
              "    }\n",
              "\n",
              "    .dataframe thead th {\n",
              "        text-align: right;\n",
              "    }\n",
              "</style>\n",
              "<table border=\"1\" class=\"dataframe\">\n",
              "  <thead>\n",
              "    <tr style=\"text-align: right;\">\n",
              "      <th></th>\n",
              "      <th>st</th>\n",
              "      <th>data</th>\n",
              "      <th>n</th>\n",
              "      <th>centre</th>\n",
              "      <th>inici</th>\n",
              "      <th>fi</th>\n",
              "      <th>k</th>\n",
              "      <th>proc</th>\n",
              "      <th>jornada</th>\n",
              "    </tr>\n",
              "  </thead>\n",
              "  <tbody>\n",
              "    <tr>\n",
              "      <th>1</th>\n",
              "      <td>1</td>\n",
              "      <td>2021-07-22</td>\n",
              "      <td>2220</td>\n",
              "      <td>EOI Barcelona IV</td>\n",
              "      <td>2021-01-09</td>\n",
              "      <td>2022-08-31</td>\n",
              "      <td>133</td>\n",
              "      <td>ae</td>\n",
              "      <td>0.5</td>\n",
              "    </tr>\n",
              "    <tr>\n",
              "      <th>2</th>\n",
              "      <td>1</td>\n",
              "      <td>2021-07-22</td>\n",
              "      <td>28706</td>\n",
              "      <td>EOI Barcelona-Vall d'Hebron</td>\n",
              "      <td>2021-01-09</td>\n",
              "      <td>2022-08-31</td>\n",
              "      <td>133</td>\n",
              "      <td>ae</td>\n",
              "      <td>1.0</td>\n",
              "    </tr>\n",
              "    <tr>\n",
              "      <th>3</th>\n",
              "      <td>1</td>\n",
              "      <td>2021-07-22</td>\n",
              "      <td>456</td>\n",
              "      <td>EOI Barcelona-Vall d'Hebron</td>\n",
              "      <td>2021-01-09</td>\n",
              "      <td>2022-08-31</td>\n",
              "      <td>133</td>\n",
              "      <td>ae</td>\n",
              "      <td>1.0</td>\n",
              "    </tr>\n",
              "    <tr>\n",
              "      <th>4</th>\n",
              "      <td>1</td>\n",
              "      <td>2021-07-22</td>\n",
              "      <td>8019</td>\n",
              "      <td>EOI de Barcelona</td>\n",
              "      <td>2021-01-09</td>\n",
              "      <td>2022-08-31</td>\n",
              "      <td>133</td>\n",
              "      <td>ae</td>\n",
              "      <td>1.0</td>\n",
              "    </tr>\n",
              "    <tr>\n",
              "      <th>5</th>\n",
              "      <td>1</td>\n",
              "      <td>2021-07-22</td>\n",
              "      <td>6707</td>\n",
              "      <td>EOI de Barcelona</td>\n",
              "      <td>2021-01-09</td>\n",
              "      <td>2022-08-31</td>\n",
              "      <td>133</td>\n",
              "      <td>ae</td>\n",
              "      <td>1.0</td>\n",
              "    </tr>\n",
              "  </tbody>\n",
              "</table>\n",
              "</div>"
            ],
            "text/plain": [
              "   st       data      n                       centre      inici         fi  \\\n",
              "1   1 2021-07-22   2220             EOI Barcelona IV 2021-01-09 2022-08-31   \n",
              "2   1 2021-07-22  28706  EOI Barcelona-Vall d'Hebron 2021-01-09 2022-08-31   \n",
              "3   1 2021-07-22    456  EOI Barcelona-Vall d'Hebron 2021-01-09 2022-08-31   \n",
              "4   1 2021-07-22   8019             EOI de Barcelona 2021-01-09 2022-08-31   \n",
              "5   1 2021-07-22   6707             EOI de Barcelona 2021-01-09 2022-08-31   \n",
              "\n",
              "     k proc  jornada  \n",
              "1  133   ae      0.5  \n",
              "2  133   ae      1.0  \n",
              "3  133   ae      1.0  \n",
              "4  133   ae      1.0  \n",
              "5  133   ae      1.0  "
            ]
          },
          "execution_count": 8,
          "metadata": {},
          "output_type": "execute_result"
        }
      ],
      "source": [
        "data_complete.head()"
      ]
    },
    {
      "cell_type": "markdown",
      "metadata": {
        "id": "J3cdgtLrlty3"
      },
      "source": [
        "# Data analysis"
      ]
    },
    {
      "cell_type": "markdown",
      "metadata": {
        "id": "Ar5Tzecalty3"
      },
      "source": [
        "***Question:*** ¿Is it possible to work on the period labeled as ***inici***?"
      ]
    },
    {
      "cell_type": "markdown",
      "metadata": {
        "id": "A3h6kIVllty4"
      },
      "source": [
        "## Concatenate all dataframes, cooresponding to the initial period and keep values of n with the highest \"inici\""
      ]
    },
    {
      "cell_type": "code",
      "execution_count": null,
      "metadata": {
        "id": "awFM4bN-lty4",
        "outputId": "a904c1a7-b55f-4348-cf0a-c9bf7eaff114"
      },
      "outputs": [
        {
          "data": {
            "text/html": [
              "<div>\n",
              "<style scoped>\n",
              "    .dataframe tbody tr th:only-of-type {\n",
              "        vertical-align: middle;\n",
              "    }\n",
              "\n",
              "    .dataframe tbody tr th {\n",
              "        vertical-align: top;\n",
              "    }\n",
              "\n",
              "    .dataframe thead th {\n",
              "        text-align: right;\n",
              "    }\n",
              "</style>\n",
              "<table border=\"1\" class=\"dataframe\">\n",
              "  <thead>\n",
              "    <tr style=\"text-align: right;\">\n",
              "      <th></th>\n",
              "      <th>st</th>\n",
              "      <th>data</th>\n",
              "      <th>n</th>\n",
              "      <th>centre</th>\n",
              "      <th>inici</th>\n",
              "      <th>fi</th>\n",
              "      <th>k</th>\n",
              "      <th>proc</th>\n",
              "      <th>jornada</th>\n",
              "    </tr>\n",
              "  </thead>\n",
              "  <tbody>\n",
              "    <tr>\n",
              "      <th>0</th>\n",
              "      <td>1</td>\n",
              "      <td>2021-07-22</td>\n",
              "      <td>2220</td>\n",
              "      <td>EOI Barcelona IV</td>\n",
              "      <td>2021-01-09</td>\n",
              "      <td>2022-08-31</td>\n",
              "      <td>133</td>\n",
              "      <td>ae</td>\n",
              "      <td>0.5</td>\n",
              "    </tr>\n",
              "    <tr>\n",
              "      <th>1</th>\n",
              "      <td>1</td>\n",
              "      <td>2021-07-22</td>\n",
              "      <td>28706</td>\n",
              "      <td>EOI Barcelona-Vall d'Hebron</td>\n",
              "      <td>2021-01-09</td>\n",
              "      <td>2022-08-31</td>\n",
              "      <td>133</td>\n",
              "      <td>ae</td>\n",
              "      <td>1.0</td>\n",
              "    </tr>\n",
              "    <tr>\n",
              "      <th>2</th>\n",
              "      <td>1</td>\n",
              "      <td>2021-07-22</td>\n",
              "      <td>456</td>\n",
              "      <td>EOI Barcelona-Vall d'Hebron</td>\n",
              "      <td>2021-01-09</td>\n",
              "      <td>2022-08-31</td>\n",
              "      <td>133</td>\n",
              "      <td>ae</td>\n",
              "      <td>1.0</td>\n",
              "    </tr>\n",
              "    <tr>\n",
              "      <th>3</th>\n",
              "      <td>1</td>\n",
              "      <td>2021-07-22</td>\n",
              "      <td>8019</td>\n",
              "      <td>EOI de Barcelona</td>\n",
              "      <td>2021-01-09</td>\n",
              "      <td>2022-08-31</td>\n",
              "      <td>133</td>\n",
              "      <td>ae</td>\n",
              "      <td>1.0</td>\n",
              "    </tr>\n",
              "    <tr>\n",
              "      <th>4</th>\n",
              "      <td>1</td>\n",
              "      <td>2021-07-22</td>\n",
              "      <td>6707</td>\n",
              "      <td>EOI de Barcelona</td>\n",
              "      <td>2021-01-09</td>\n",
              "      <td>2022-08-31</td>\n",
              "      <td>133</td>\n",
              "      <td>ae</td>\n",
              "      <td>1.0</td>\n",
              "    </tr>\n",
              "  </tbody>\n",
              "</table>\n",
              "</div>"
            ],
            "text/plain": [
              "   st       data      n                       centre      inici         fi  \\\n",
              "0   1 2021-07-22   2220             EOI Barcelona IV 2021-01-09 2022-08-31   \n",
              "1   1 2021-07-22  28706  EOI Barcelona-Vall d'Hebron 2021-01-09 2022-08-31   \n",
              "2   1 2021-07-22    456  EOI Barcelona-Vall d'Hebron 2021-01-09 2022-08-31   \n",
              "3   1 2021-07-22   8019             EOI de Barcelona 2021-01-09 2022-08-31   \n",
              "4   1 2021-07-22   6707             EOI de Barcelona 2021-01-09 2022-08-31   \n",
              "\n",
              "     k proc  jornada  \n",
              "0  133   ae      0.5  \n",
              "1  133   ae      1.0  \n",
              "2  133   ae      1.0  \n",
              "3  133   ae      1.0  \n",
              "4  133   ae      1.0  "
            ]
          },
          "execution_count": 44,
          "metadata": {},
          "output_type": "execute_result"
        }
      ],
      "source": [
        "df_inici = pd.concat(data, axis=0).reset_index(drop=True)\n",
        "df_inici.head()"
      ]
    },
    {
      "cell_type": "code",
      "execution_count": null,
      "metadata": {
        "id": "Hvge-JX0lty4",
        "outputId": "6c01a777-f2dd-440b-b88d-4bd9e94160ac"
      },
      "outputs": [
        {
          "data": {
            "text/html": [
              "<div>\n",
              "<style scoped>\n",
              "    .dataframe tbody tr th:only-of-type {\n",
              "        vertical-align: middle;\n",
              "    }\n",
              "\n",
              "    .dataframe tbody tr th {\n",
              "        vertical-align: top;\n",
              "    }\n",
              "\n",
              "    .dataframe thead th {\n",
              "        text-align: right;\n",
              "    }\n",
              "</style>\n",
              "<table border=\"1\" class=\"dataframe\">\n",
              "  <thead>\n",
              "    <tr style=\"text-align: right;\">\n",
              "      <th></th>\n",
              "      <th>st</th>\n",
              "      <th>data</th>\n",
              "      <th>n</th>\n",
              "      <th>centre</th>\n",
              "      <th>inici</th>\n",
              "      <th>fi</th>\n",
              "      <th>k</th>\n",
              "      <th>proc</th>\n",
              "      <th>jornada</th>\n",
              "    </tr>\n",
              "  </thead>\n",
              "  <tbody>\n",
              "    <tr>\n",
              "      <th>0</th>\n",
              "      <td>43</td>\n",
              "      <td>2021-07-22</td>\n",
              "      <td>1</td>\n",
              "      <td>Institut Marta Mata</td>\n",
              "      <td>2021-01-09</td>\n",
              "      <td>2022-08-31</td>\n",
              "      <td>GE</td>\n",
              "      <td>ae</td>\n",
              "      <td>1.0</td>\n",
              "    </tr>\n",
              "    <tr>\n",
              "      <th>1</th>\n",
              "      <td>17</td>\n",
              "      <td>2021-01-09</td>\n",
              "      <td>2</td>\n",
              "      <td>Institut - Jaume Vicens Vives (Girona)</td>\n",
              "      <td>2021-02-09</td>\n",
              "      <td>2021-01-11</td>\n",
              "      <td>PSI</td>\n",
              "      <td>nt</td>\n",
              "      <td>1.0</td>\n",
              "    </tr>\n",
              "    <tr>\n",
              "      <th>2</th>\n",
              "      <td>4</td>\n",
              "      <td>2021-08-26</td>\n",
              "      <td>3</td>\n",
              "      <td>Institut - Can Jofresa (Terrassa)</td>\n",
              "      <td>2021-01-09</td>\n",
              "      <td>2022-08-31</td>\n",
              "      <td>DI</td>\n",
              "      <td>nt</td>\n",
              "      <td>1.0</td>\n",
              "    </tr>\n",
              "    <tr>\n",
              "      <th>3</th>\n",
              "      <td>2</td>\n",
              "      <td>2021-07-22</td>\n",
              "      <td>5</td>\n",
              "      <td>Institut Pedraforca</td>\n",
              "      <td>2021-01-09</td>\n",
              "      <td>2022-08-31</td>\n",
              "      <td>LE</td>\n",
              "      <td>ae</td>\n",
              "      <td>1.0</td>\n",
              "    </tr>\n",
              "    <tr>\n",
              "      <th>4</th>\n",
              "      <td>1</td>\n",
              "      <td>2021-07-22</td>\n",
              "      <td>6</td>\n",
              "      <td>Institut Pablo R. Picasso</td>\n",
              "      <td>2021-01-09</td>\n",
              "      <td>2022-08-31</td>\n",
              "      <td>GE</td>\n",
              "      <td>ae</td>\n",
              "      <td>1.0</td>\n",
              "    </tr>\n",
              "  </tbody>\n",
              "</table>\n",
              "</div>"
            ],
            "text/plain": [
              "   st       data  n                                  centre      inici  \\\n",
              "0  43 2021-07-22  1                     Institut Marta Mata 2021-01-09   \n",
              "1  17 2021-01-09  2  Institut - Jaume Vicens Vives (Girona) 2021-02-09   \n",
              "2   4 2021-08-26  3       Institut - Can Jofresa (Terrassa) 2021-01-09   \n",
              "3   2 2021-07-22  5                     Institut Pedraforca 2021-01-09   \n",
              "4   1 2021-07-22  6               Institut Pablo R. Picasso 2021-01-09   \n",
              "\n",
              "          fi    k proc  jornada  \n",
              "0 2022-08-31   GE   ae      1.0  \n",
              "1 2021-01-11  PSI   nt      1.0  \n",
              "2 2022-08-31   DI   nt      1.0  \n",
              "3 2022-08-31   LE   ae      1.0  \n",
              "4 2022-08-31   GE   ae      1.0  "
            ]
          },
          "execution_count": 45,
          "metadata": {},
          "output_type": "execute_result"
        }
      ],
      "source": [
        "df_inici=df_inici.sort_values(['n', 'inici'], ascending=[True, True]).reset_index(drop=True)\n",
        "df_inici.head()"
      ]
    },
    {
      "cell_type": "code",
      "execution_count": null,
      "metadata": {
        "id": "HdbTFfQllty5",
        "outputId": "b9c0a5c6-ad08-4dfc-a9a1-da8f48b49ceb"
      },
      "outputs": [
        {
          "data": {
            "text/plain": [
              "True"
            ]
          },
          "execution_count": 46,
          "metadata": {},
          "output_type": "execute_result"
        }
      ],
      "source": [
        "#compruebo longitud\n",
        "len(df_inici)==sum([len(i) for i in data])"
      ]
    },
    {
      "cell_type": "code",
      "execution_count": null,
      "metadata": {
        "id": "MDH51ibilty5"
      },
      "outputs": [],
      "source": [
        "#keep the last date\n",
        "df_inici=df_inici.drop_duplicates(subset=['n'], keep='last')"
      ]
    },
    {
      "cell_type": "code",
      "execution_count": null,
      "metadata": {
        "id": "pe3-Aknflty6"
      },
      "outputs": [],
      "source": [
        "with open('data_concat_inici_filt.pickle', 'wb') as handle:\n",
        "    pickle.dump(df_inici, handle)"
      ]
    },
    {
      "cell_type": "code",
      "execution_count": null,
      "metadata": {
        "id": "3SDP4zSRlty6"
      },
      "outputs": [],
      "source": [
        "df_inici=pd.read_pickle('data_concat_inici_filt.pickle')"
      ]
    },
    {
      "cell_type": "code",
      "execution_count": null,
      "metadata": {
        "id": "1zd64Zexlty6",
        "outputId": "652cecd1-bea6-4161-b308-36ed9aeca71c"
      },
      "outputs": [
        {
          "data": {
            "image/png": "[encoded data removed]",
            "text/plain": [
              "<Figure size 1080x1080 with 12 Axes>"
            ]
          },
          "metadata": {
            "needs_background": "light"
          },
          "output_type": "display_data"
        }
      ],
      "source": [
        "df_inici['n'].hist(by=df_inici['st'],figsize=(15,15),bins=20,range=[0, 80_000])\n",
        "plt.xlim(0, 50)\n",
        "plt.show()"
      ]
    },
    {
      "cell_type": "markdown",
      "metadata": {
        "id": "WvsLbW2Blty7"
      },
      "source": [
        "### Preliminar conclusions"
      ]
    },
    {
      "cell_type": "markdown",
      "metadata": {
        "id": "nJmpgnoolty7"
      },
      "source": [
        "* Is it possible to distinguish between two different areas; one roughtly constant another one is decreasing.\n",
        "* Constants area may be attributed to all the available people with a certain number being working.\n",
        "* Decreasing area may be attributed to a people being call upon particular conditions and specific cases."
      ]
    },
    {
      "cell_type": "markdown",
      "metadata": {
        "id": "lXmxUJmIlty7"
      },
      "source": [
        "## Repeat analysis for all available datasets"
      ]
    },
    {
      "cell_type": "code",
      "execution_count": null,
      "metadata": {
        "id": "u8p3hFWLlty7",
        "outputId": "9c565d81-c809-4305-ce53-ade00217180a"
      },
      "outputs": [
        {
          "data": {
            "image/png": "[encoded data removed]",
            "text/plain": [
              "<Figure size 1080x1080 with 12 Axes>"
            ]
          },
          "metadata": {
            "needs_background": "light"
          },
          "output_type": "display_data"
        }
      ],
      "source": [
        "df_total = pd.concat(data_complete, axis=0).reset_index(drop=True)\n",
        "df_total=df_total.sort_values(['n', 'inici'], ascending=[True, True]).reset_index(drop=True)\n",
        "# It is not possible to use the fi date as comparasion to know if a person is currently working or not.\n",
        "# Because subtitution can be elongated and it is only comunicated to the affected person\n",
        "df_total=df_total.drop_duplicates(subset=['n'], keep='last')\n",
        "df_total['n'].hist(by=df_total['st'],figsize=(15,15),bins=20,range=[0, 80_000])\n",
        "plt.xlim(0, 50)\n",
        "plt.show()"
      ]
    },
    {
      "cell_type": "markdown",
      "metadata": {
        "id": "7CgJxlWtlty8"
      },
      "source": [
        "### Preliminar conclusions"
      ]
    },
    {
      "cell_type": "markdown",
      "metadata": {
        "id": "7s7wkRs6lty8"
      },
      "source": [
        "* The area of roughly constant bar high size has increase, that can be understood as the number of person which correspond to each bucket or bin has increase. That means that as the time passes by, people with higher number of order can start to work.\n",
        "* The area with a negative slope has now a higher value than before (more negative). That means that the rhythm at which people with higher number are finding a job is decreasing. That can be understood by the fact that when a substitution is finished a person with a low number is again available to take a position which will be prioritize over the persons with higher number."
      ]
    },
    {
      "cell_type": "markdown",
      "metadata": {
        "id": "hC-MfBFQlty8"
      },
      "source": [
        "# Geolocalización"
      ]
    },
    {
      "cell_type": "markdown",
      "metadata": {
        "id": "Y9h8b8lhlty8"
      },
      "source": [
        "## Geting a list of all schools."
      ]
    },
    {
      "cell_type": "code",
      "execution_count": null,
      "metadata": {
        "id": "oMs2q8ZIlty9"
      },
      "outputs": [],
      "source": [
        "df_schools=data_complete['centre'].drop_duplicates().reset_index(drop = True)"
      ]
    },
    {
      "cell_type": "code",
      "execution_count": null,
      "metadata": {
        "id": "PKJkaTstlty-",
        "outputId": "3979e9fd-4be9-496b-da8e-20a06f906945"
      },
      "outputs": [
        {
          "data": {
            "text/plain": [
              "0               EOI Barcelona IV\n",
              "1    EOI Barcelona-Vall d'Hebron\n",
              "2               EOI de Barcelona\n",
              "3                   EOI Guinardó\n",
              "4              EOI Barcelona III\n",
              "Name: centre, dtype: object"
            ]
          },
          "execution_count": 22,
          "metadata": {},
          "output_type": "execute_result"
        }
      ],
      "source": [
        "df_schools.head()"
      ]
    },
    {
      "cell_type": "markdown",
      "metadata": {
        "id": "oeedRZkylty-"
      },
      "source": [
        "## Geolocation of schools"
      ]
    },
    {
      "cell_type": "code",
      "execution_count": null,
      "metadata": {
        "id": "362RbiVdlty_"
      },
      "outputs": [],
      "source": [
        "with open('C:\\\\Users\\\\Usuario\\\\Desktop\\\\Data Science\\\\Visualizaciones\\\\Clave_API_google.txt', 'r') as handle:\n",
        "    ApiKey2 = handle.readlines()[0]"
      ]
    },
    {
      "cell_type": "code",
      "execution_count": null,
      "metadata": {
        "id": "CWWJ2j3Xlty_"
      },
      "outputs": [],
      "source": [
        "with open('C:\\\\Users\\\\Usuario\\\\Desktop\\\\Data Science\\\\Visualizaciones\\\\Calve_api.txt', 'r') as handle:\n",
        "    ApiKey = handle.readlines()[0]\n"
      ]
    },
    {
      "cell_type": "markdown",
      "metadata": {
        "id": "kZ1bmFP3lty_"
      },
      "source": [
        "### Coordinates obtained by scrapping queries from google."
      ]
    },
    {
      "cell_type": "markdown",
      "metadata": {
        "id": "d0xQGvFEltzA"
      },
      "source": [
        "This a slow step but necesary if we want to reduce the total number of API calls, which are limited per month"
      ]
    },
    {
      "cell_type": "markdown",
      "metadata": {
        "id": "USfLnfDUltzA"
      },
      "source": [
        ""
      ]
    },
    {
      "cell_type": "code",
      "execution_count": null,
      "metadata": {
        "id": "DZ6PU892ltzA"
      },
      "outputs": [],
      "source": [
        "# Used to extract the coordinates from a google query\n",
        "\n",
        "def coords_from_google_scrap(text):\n",
        "    coord = text.find(\"div\", attrs= {\"class\":\"rhsg4 rhsmap5col\"})\n",
        "    coord=str(coord)\n",
        "    pattern = \"@(.*?)/data\"\n",
        "    substring = re.search(pattern, coord).group(1)\n",
        "    coord = substring.split(',')\n",
        "    if 30<float(coord[0])<50:\n",
        "        latitud = float(coord[0])\n",
        "        longitud = float(coord[1])\n",
        "    else:\n",
        "        latitud = float(coord[1])\n",
        "        longitud = float(coord[0])\n",
        "\n",
        "\n"
      ]
    },
    {
      "cell_type": "code",
      "execution_count": null,
      "metadata": {
        "id": "Yp-QQSCjltzB"
      },
      "outputs": [],
      "source": [
        "# The function get the full address of a School by scraping a google query\n",
        "\n",
        "def address_scrap_from_google(text):\n",
        "\n",
        "    try:\n",
        "        address = text.find(\"span\", attrs= {\"class\":\"LrzXr\"}).text\n",
        "        address = address.replace(' s/n,','')\n",
        "    except:\n",
        "        try:\n",
        "            direccion=text.find(\"a\", attrs={\"class\":\"yYlJEf Q7PwXb VByer\"})[\"data-url\"]\n",
        "            pattern = \"maps/dir//(.*?)/data\"\n",
        "            substring = re.search(pattern, direccion).group(1)\n",
        "            names = [unidecode(unquote(i)) for i in substring.split('+')]\n",
        "            address = ' '.join(names)\n",
        "            address = address.replace(' s/n,','')\n",
        "            \n",
        "        except:\n",
        "            address=-1\n",
        "    return address"
      ]
    },
    {
      "cell_type": "markdown",
      "metadata": {
        "id": "ix_OO8zIltzB"
      },
      "source": [
        "### API Mapi, alternative to google maps"
      ]
    },
    {
      "cell_type": "markdown",
      "metadata": {
        "id": "g8XHuvBIltzB"
      },
      "source": [
        "It does not provide geolocation by name of the school bu we can feed the result from scrapping the address.\n",
        "This API is used to split the reduce the API calls to google maps"
      ]
    },
    {
      "cell_type": "code",
      "execution_count": null,
      "metadata": {
        "id": "91o-JJWJltzB"
      },
      "outputs": [],
      "source": [
        "def get_coordinates_from_API(ApiKey,address):\n",
        "\n",
        "    parameters={ \n",
        "        \"key\": ApiKey,\n",
        "        \"location\": address\n",
        "        }\n",
        "    url_coord = \"http://www.mapquestapi.com/geocoding/v1/address\"\n",
        "    reponse = requests.get(url_coord, params=parameters)\n",
        "    values_coord = json.loads(reponse.text)\n",
        "    latitud = values_coord['results'][0]['locations'][0]['latLng']['lat']\n",
        "    longitud = values_coord['results'][0]['locations'][0]['latLng']['lng']\n",
        "    return(latitud,longitud)"
      ]
    },
    {
      "cell_type": "markdown",
      "metadata": {
        "id": "_HSL6CADltzB"
      },
      "source": [
        "### API google maps"
      ]
    },
    {
      "cell_type": "markdown",
      "metadata": {
        "id": "JL5vc8Q9ltzB"
      },
      "source": [
        "In case everything fails, we call google maps API by the following function where we can get address and geocoordenates by feeding the name of the school"
      ]
    },
    {
      "cell_type": "code",
      "execution_count": null,
      "metadata": {
        "id": "4Lfma1XQltzC"
      },
      "outputs": [],
      "source": [
        "def get_dir_from_google_maps(text):\n",
        "    gm_key=googlemaps.Client(key=ApiKey2)\n",
        "    par=gm_key.geocode(text)\n",
        "    try:\n",
        "        full_add=par[0]['formatted_address']\n",
        "        latitude = par[0]['geometry']['location']['lat']\n",
        "        longitude = par[0]['geometry']['location']['lng']\n",
        "    except:\n",
        "        full_add=-1\n",
        "        latitude = -80\n",
        "        longitude = -80\n",
        "    return(full_add,latitude,longitude)"
      ]
    },
    {
      "cell_type": "markdown",
      "metadata": {
        "id": "2BAPxVU3ltzC"
      },
      "source": [
        "### Function to get address and coordinates of the schools"
      ]
    },
    {
      "cell_type": "code",
      "execution_count": null,
      "metadata": {
        "id": "mtJfbIEOltzE"
      },
      "outputs": [],
      "source": [
        "def query(school):\n",
        "    step_1=re.sub(r'[^\\w\\s]', '', school).replace(\"  \",\" \")\n",
        "    step_2=step_1.split()\n",
        "    step_3 ='+'.join(step_2)+\"+Catalunya\"\n",
        "    url_1 = \"https://www.google.com/search?client=firefox-b-d&q=\"+step_3\n",
        "    url_2 = \"https://www.google.com/search?client=firefox-b-d&q=\"+step_3+\"+coordenadas\"    \n",
        "    \n",
        "    page_1 = requests.get(url_1, headers=headers)\n",
        "    time.sleep(1)\n",
        "    page_2 = requests.get(url_2, headers=headers)\n",
        "    try:\n",
        "        contenido = bs(page_1.content)\n",
        "        contenido_2 = bs(page_2.content)\n",
        "    except:\n",
        "        contenido = 'Respone_error'\n",
        "        contenido_2 = 'Respone_error'\n",
        "    ################################################################################################\n",
        "    #Try to get the address\n",
        "    ################################################################################################\n",
        "\n",
        "    try:\n",
        "        address = address_scrap_from_google(contenido_2)\n",
        "    except:\n",
        "        address = 'Error'\n",
        "    \n",
        "    ##################################################################################################´\n",
        "    # Try to get coordenates from google scrapp\n",
        "    ##################################################################################################\n",
        "\n",
        "    try:\n",
        "\n",
        "        latitud, longitud = coords_from_google_scrap(contenido)\n",
        "    \n",
        "    except: # If you can not retrive coordenates get them from mapquestapi\n",
        "\n",
        "        try:\n",
        "            if address!='Error' and address!=-1:\n",
        "                latitud, longitud = get_coordinates_from_API(ApiKey,address)\n",
        "            else:\n",
        "                latitud, longitud = (-80,-80)\n",
        "        except:\n",
        "            latitud, longitud = (-80,-80)\n",
        "    \n",
        "    full_address = [address,latitud,longitud]\n",
        "\n",
        "    if full_address[2] < -10: # If everything fails try googlemaps\n",
        "        try:\n",
        "            full_address = get_dir_from_google_maps(school)\n",
        "        except:\n",
        "            full_address = [-1,-80,-80]\n",
        "\n",
        "    \n",
        "    time.sleep(np.random.choice(range(2,5)))\n",
        "\n",
        "    return full_address\n",
        "\n"
      ]
    },
    {
      "cell_type": "code",
      "execution_count": null,
      "metadata": {
        "id": "eVtmXNp-ltzF"
      },
      "outputs": [],
      "source": [
        "#A dictionary is created to store the results\n",
        "\n",
        "full_addresses = {'school':[],\"full_address\":[],\"latitude\":[],\"longitude\":[]}\n",
        "iterator = 1\n",
        "for i in tqdm(range(len(df_schools))):\n",
        "    try:\n",
        "        f_a=query(df_schools[i])\n",
        "        full_addresses['school'].append(df_schools[i])\n",
        "        full_addresses['full_address'].append(f_a[0])\n",
        "        full_addresses['latitude'].append(f_a[1])\n",
        "        full_addresses['longitude'].append(f_a[2])\n",
        "    except:\n",
        "        f_a= get_dir_from_google_maps(df_schools[i])\n",
        "        full_addresses['school'].append(df_schools[i])\n",
        "        try:\n",
        "            full_addresses['full_address'].append(f_a[0])\n",
        "            full_addresses['latitude'].append(f_a[1])\n",
        "            full_addresses['longitude'].append(f_a[2])\n",
        "        except:\n",
        "            full_addresses['full_address'].append(-1)\n",
        "            full_addresses['latitude'].append(-80)\n",
        "            full_addresses['longitude'].append(-80)\n",
        "    \n",
        "\n",
        "    if iterator % 200==0:\n",
        "        print(f_a)\n",
        "        \n",
        "    if iterator%50 ==0:\n",
        "        with open(\"C:\\\\Users\\\\Usuario\\\\Desktop\\\\Data Science\\\\Visualizaciones\\\\full_address_2.pickle\",\"wb\") as handle:\n",
        "            pickle.dump(full_addresses, handle)\n",
        "    iterator+=1\n",
        "\n",
        "    time.sleep(1)\n",
        "        \n",
        "with open(\"C:\\\\Users\\\\Usuario\\\\Desktop\\\\Data Science\\\\Visualizaciones\\\\full_address_2.pickle\",\"wb\") as handle:\n",
        "    pickle.dump(full_addresses, handle)\n"
      ]
    },
    {
      "cell_type": "code",
      "execution_count": null,
      "metadata": {
        "id": "ex1-1KHpltzG"
      },
      "outputs": [],
      "source": [
        "for k,v in full_addresses.items():\n",
        "    full_addresses[k].extend(full_addresses[k])"
      ]
    },
    {
      "cell_type": "code",
      "execution_count": null,
      "metadata": {
        "id": "aJJfV09UltzH"
      },
      "outputs": [],
      "source": [
        "df_adresses=pd.DataFrame.from_dict(full_addresses)\n",
        "df_adresses=df_adresses.drop_duplicates(ignore_index=True)"
      ]
    },
    {
      "cell_type": "code",
      "execution_count": null,
      "metadata": {
        "id": "w4hNuYb2ltzH",
        "outputId": "b8b0b83e-5dee-4e48-a0b7-fd164265c8dc"
      },
      "outputs": [
        {
          "data": {
            "text/html": [
              "<div>\n",
              "<style scoped>\n",
              "    .dataframe tbody tr th:only-of-type {\n",
              "        vertical-align: middle;\n",
              "    }\n",
              "\n",
              "    .dataframe tbody tr th {\n",
              "        vertical-align: top;\n",
              "    }\n",
              "\n",
              "    .dataframe thead th {\n",
              "        text-align: right;\n",
              "    }\n",
              "</style>\n",
              "<table border=\"1\" class=\"dataframe\">\n",
              "  <thead>\n",
              "    <tr style=\"text-align: right;\">\n",
              "      <th></th>\n",
              "      <th>school</th>\n",
              "      <th>full_address</th>\n",
              "      <th>latitude</th>\n",
              "      <th>longitude</th>\n",
              "    </tr>\n",
              "  </thead>\n",
              "  <tbody>\n",
              "    <tr>\n",
              "      <th>0</th>\n",
              "      <td>EOI Barcelona IV</td>\n",
              "      <td>Carrer de l'Empordà, 16, 08020 Barcelona, Spain</td>\n",
              "      <td>41.423532</td>\n",
              "      <td>2.208899</td>\n",
              "    </tr>\n",
              "    <tr>\n",
              "      <th>1</th>\n",
              "      <td>EOI Barcelona-Vall d'Hebron</td>\n",
              "      <td>Av. del Jordà, 18, 08035 Barcelona, Spain</td>\n",
              "      <td>41.426900</td>\n",
              "      <td>2.138528</td>\n",
              "    </tr>\n",
              "    <tr>\n",
              "      <th>2</th>\n",
              "      <td>EOI de Barcelona</td>\n",
              "      <td>Av. de les Drassanes, 14, 08001 Barcelona, Spain</td>\n",
              "      <td>41.376897</td>\n",
              "      <td>2.173427</td>\n",
              "    </tr>\n",
              "    <tr>\n",
              "      <th>3</th>\n",
              "      <td>EOI Guinardó</td>\n",
              "      <td>Av. de la Mare de Déu de Montserrat, 78, 08024...</td>\n",
              "      <td>41.414988</td>\n",
              "      <td>2.167080</td>\n",
              "    </tr>\n",
              "    <tr>\n",
              "      <th>4</th>\n",
              "      <td>EOI Barcelona III</td>\n",
              "      <td>Avinguda de la Riera de Cassoles, 23, 08012 Ba...</td>\n",
              "      <td>41.403085</td>\n",
              "      <td>2.149716</td>\n",
              "    </tr>\n",
              "  </tbody>\n",
              "</table>\n",
              "</div>"
            ],
            "text/plain": [
              "                        school  \\\n",
              "0             EOI Barcelona IV   \n",
              "1  EOI Barcelona-Vall d'Hebron   \n",
              "2             EOI de Barcelona   \n",
              "3                 EOI Guinardó   \n",
              "4            EOI Barcelona III   \n",
              "\n",
              "                                        full_address   latitude  longitude  \n",
              "0    Carrer de l'Empordà, 16, 08020 Barcelona, Spain  41.423532   2.208899  \n",
              "1          Av. del Jordà, 18, 08035 Barcelona, Spain  41.426900   2.138528  \n",
              "2   Av. de les Drassanes, 14, 08001 Barcelona, Spain  41.376897   2.173427  \n",
              "3  Av. de la Mare de Déu de Montserrat, 78, 08024...  41.414988   2.167080  \n",
              "4  Avinguda de la Riera de Cassoles, 23, 08012 Ba...  41.403085   2.149716  "
            ]
          },
          "execution_count": 33,
          "metadata": {},
          "output_type": "execute_result"
        }
      ],
      "source": [
        "df_adresses.head()"
      ]
    },
    {
      "cell_type": "markdown",
      "metadata": {
        "id": "WbQaycXvltzI"
      },
      "source": [
        "#### Fine tunning of queries and discarting results with no sense"
      ]
    },
    {
      "cell_type": "code",
      "execution_count": null,
      "metadata": {
        "id": "AGWl3kERltzI",
        "outputId": "86d91579-6d61-4291-847a-c2e31d2d9091"
      },
      "outputs": [
        {
          "name": "stderr",
          "output_type": "stream",
          "text": [
            "100%|██████████| 4899/4899 [01:13<00:00, 66.77it/s]\n"
          ]
        }
      ],
      "source": [
        "iterator = len(df_adresses)\n",
        "\n",
        "for i in tqdm(range(iterator)):\n",
        "    if df_adresses['longitude'].iloc[i]<-6:\n",
        "        name = df_adresses['school'].iloc[i]\n",
        "        school = name+\", Catalunya\"\n",
        "        val = get_dir_from_google_maps(school)\n",
        "        df_adresses.loc[df_adresses.school == name, 'full_address'] =val[0]\n",
        "        df_adresses.loc[df_adresses.school == name, 'latitude'] =val[1]\n",
        "        df_adresses.loc[df_adresses.school == name, 'longitude'] =val[2]\n"
      ]
    },
    {
      "cell_type": "markdown",
      "metadata": {
        "id": "y5Dng59ZltzI"
      },
      "source": [
        "#### Manual asignation of errors"
      ]
    },
    {
      "cell_type": "code",
      "execution_count": null,
      "metadata": {
        "id": "25tKW-l_ltzJ",
        "outputId": "24b247ed-88e8-457b-e47f-bbec3a474aa7"
      },
      "outputs": [
        {
          "data": {
            "text/html": [
              "<div>\n",
              "<style scoped>\n",
              "    .dataframe tbody tr th:only-of-type {\n",
              "        vertical-align: middle;\n",
              "    }\n",
              "\n",
              "    .dataframe tbody tr th {\n",
              "        vertical-align: top;\n",
              "    }\n",
              "\n",
              "    .dataframe thead th {\n",
              "        text-align: right;\n",
              "    }\n",
              "</style>\n",
              "<table border=\"1\" class=\"dataframe\">\n",
              "  <thead>\n",
              "    <tr style=\"text-align: right;\">\n",
              "      <th></th>\n",
              "      <th>school</th>\n",
              "      <th>full_address</th>\n",
              "      <th>latitude</th>\n",
              "      <th>longitude</th>\n",
              "    </tr>\n",
              "  </thead>\n",
              "  <tbody>\n",
              "    <tr>\n",
              "      <th>1267</th>\n",
              "      <td>Institut d'Auro</td>\n",
              "      <td>-1</td>\n",
              "      <td>-80.000000</td>\n",
              "      <td>-80.000000</td>\n",
              "    </tr>\n",
              "    <tr>\n",
              "      <th>1769</th>\n",
              "      <td>Institut Terres de Ponent</td>\n",
              "      <td>-1</td>\n",
              "      <td>-80.000000</td>\n",
              "      <td>-80.000000</td>\n",
              "    </tr>\n",
              "    <tr>\n",
              "      <th>3606</th>\n",
              "      <td>EOI - de Sant Feliu de Guíxols (Sant Feliu de ...</td>\n",
              "      <td>-1</td>\n",
              "      <td>-80.000000</td>\n",
              "      <td>-80.000000</td>\n",
              "    </tr>\n",
              "    <tr>\n",
              "      <th>4268</th>\n",
              "      <td>Institut - Terres de Ponent (Mollerussa)</td>\n",
              "      <td>-1</td>\n",
              "      <td>-80.000000</td>\n",
              "      <td>-80.000000</td>\n",
              "    </tr>\n",
              "    <tr>\n",
              "      <th>4485</th>\n",
              "      <td>Escola - Santa Anna (Castellvell del Camp)</td>\n",
              "      <td>-1</td>\n",
              "      <td>-80.000000</td>\n",
              "      <td>-80.000000</td>\n",
              "    </tr>\n",
              "    <tr>\n",
              "      <th>4618</th>\n",
              "      <td>I. Salvador Dali</td>\n",
              "      <td>1 Dali Blvd, St. Petersburg, FL 33701, USA</td>\n",
              "      <td>27.765909</td>\n",
              "      <td>-82.631579</td>\n",
              "    </tr>\n",
              "    <tr>\n",
              "      <th>4772</th>\n",
              "      <td>I. Gabriela Mistral</td>\n",
              "      <td>200 Eastern Pkwy, Brooklyn, NY 11238, USA</td>\n",
              "      <td>40.671206</td>\n",
              "      <td>-73.963631</td>\n",
              "    </tr>\n",
              "    <tr>\n",
              "      <th>4826</th>\n",
              "      <td>I.Leonardo da Vinci</td>\n",
              "      <td>98-50 50th Ave, Corona, NY 11368, USA</td>\n",
              "      <td>40.742593</td>\n",
              "      <td>-73.862616</td>\n",
              "    </tr>\n",
              "  </tbody>\n",
              "</table>\n",
              "</div>"
            ],
            "text/plain": [
              "                                                 school  \\\n",
              "1267                                    Institut d'Auro   \n",
              "1769                          Institut Terres de Ponent   \n",
              "3606  EOI - de Sant Feliu de Guíxols (Sant Feliu de ...   \n",
              "4268           Institut - Terres de Ponent (Mollerussa)   \n",
              "4485         Escola - Santa Anna (Castellvell del Camp)   \n",
              "4618                                   I. Salvador Dali   \n",
              "4772                                I. Gabriela Mistral   \n",
              "4826                                I.Leonardo da Vinci   \n",
              "\n",
              "                                    full_address   latitude  longitude  \n",
              "1267                                          -1 -80.000000 -80.000000  \n",
              "1769                                          -1 -80.000000 -80.000000  \n",
              "3606                                          -1 -80.000000 -80.000000  \n",
              "4268                                          -1 -80.000000 -80.000000  \n",
              "4485                                          -1 -80.000000 -80.000000  \n",
              "4618  1 Dali Blvd, St. Petersburg, FL 33701, USA  27.765909 -82.631579  \n",
              "4772   200 Eastern Pkwy, Brooklyn, NY 11238, USA  40.671206 -73.963631  \n",
              "4826       98-50 50th Ave, Corona, NY 11368, USA  40.742593 -73.862616  "
            ]
          },
          "execution_count": 35,
          "metadata": {},
          "output_type": "execute_result"
        }
      ],
      "source": [
        "df_adresses[df_adresses['longitude']<-6]"
      ]
    },
    {
      "cell_type": "code",
      "execution_count": null,
      "metadata": {
        "id": "EkBcya0IltzJ"
      },
      "outputs": [],
      "source": [
        "df_adresses.loc[df_adresses.school == 'Institut Terres de Ponent', 'full_address'] ='Ctra. de Torregrossa s/n, 25230. Mollerussa'\n",
        "df_adresses.loc[df_adresses.school == 'Institut Terres de Ponent', 'latitude'] =41.6271406\n",
        "df_adresses.loc[df_adresses.school == 'Institut Terres de Ponent', 'longitude'] =0.8924884\n",
        "\n",
        "df_adresses.loc[df_adresses.school == 'Institut - Terres de Ponent (Mollerussa)', 'full_address'] ='Ctra. de Torregrossa s/n, 25230. Mollerussa'\n",
        "df_adresses.loc[df_adresses.school == 'Institut - Terres de Ponent (Mollerussa)', 'latitude'] =41.6271406\n",
        "df_adresses.loc[df_adresses.school == 'Institut - Terres de Ponent (Mollerussa)', 'longitude'] =0.8924884\n",
        "\n",
        "df_adresses.loc[df_adresses.school == 'Escola - Santa Anna (Castellvell del Camp)', 'full_address'] ='Camí de la Mineta 1 | 43392 Castellvell del Camp'\n",
        "df_adresses.loc[df_adresses.school == 'Escola - Santa Anna (Castellvell del Camp)', 'latitude'] =41.1802096\n",
        "df_adresses.loc[df_adresses.school == 'Escola - Santa Anna (Castellvell del Camp)', 'longitude'] =1.0971215\n",
        "\n",
        "df_adresses.loc[df_adresses.school == \"Institut d'Auro\", 'full_address'] ='Carrer Convent, 20, 08251 Santpedor, Barcelona'\n",
        "df_adresses.loc[df_adresses.school == \"Institut d'Auro\", 'latitude'] =41.7759879\n",
        "df_adresses.loc[df_adresses.school == \"Institut d'Auro\", 'longitude'] =1.8368905\n",
        "\n",
        "df_adresses.loc[df_adresses.school == \"EOI - de Sant Feliu de Guíxols (Sant Feliu de Guíxols)\", 'full_address'] ='Carrer de Canigó, 41, 17220 Sant Feliu de Guíxols, Girona'\n",
        "df_adresses.loc[df_adresses.school == \"EOI - de Sant Feliu de Guíxols (Sant Feliu de Guíxols)\", 'latitude'] =41.7896244\n",
        "df_adresses.loc[df_adresses.school == \"EOI - de Sant Feliu de Guíxols (Sant Feliu de Guíxols)\", 'longitude'] =3.0239414\n",
        "\n",
        "df_adresses.loc[df_adresses.school == \"Escola - Santa Anna (Castellvell del Camp)\", 'full_address'] ='Camí de la Mineta, 1 43392 Castellvell del Camp'\n",
        "df_adresses.loc[df_adresses.school == \"Escola - Santa Anna (Castellvell del Camp)\", 'latitude'] =41.1792629\n",
        "df_adresses.loc[df_adresses.school == \"Escola - Santa Anna (Castellvell del Camp)\", 'longitude'] =1.0984586\n",
        "\n",
        "df_adresses.loc[df_adresses.school == \"I. Salvador Dali\", 'full_address'] ='Av. del Pare Andreu de Palma, 1-3, 08820 El Prat de Llobregat, Barcelona'\n",
        "df_adresses.loc[df_adresses.school == \"I. Salvador Dali\", 'latitude'] =41.3302016\n",
        "df_adresses.loc[df_adresses.school == \"I. Salvador Dali\", 'longitude'] =2.100236\n",
        "\n",
        "df_adresses.loc[df_adresses.school == \"I. Gabriela Mistral\", 'full_address'] =\"Carrer d'Osca, 95, 105, 08620 Sant Vicenç dels Horts, Barcelona\"\n",
        "df_adresses.loc[df_adresses.school == \"I. Gabriela Mistral\", 'latitude'] =41.3946156\n",
        "df_adresses.loc[df_adresses.school == \"I. Gabriela Mistral\", 'longitude'] =1.9944905\n",
        "\n",
        "df_adresses.loc[df_adresses.school == \"I.Leonardo da Vinci\", 'full_address'] =\"Carrer d'Alfons d'Aragó, 20, 08173 Sant Cugat del Vallès, Barcelona\"\n",
        "df_adresses.loc[df_adresses.school == \"I.Leonardo da Vinci\", 'latitude'] =41.4813377\n",
        "df_adresses.loc[df_adresses.school == \"I.Leonardo da Vinci\", 'longitude'] =2.0710327"
      ]
    },
    {
      "cell_type": "markdown",
      "metadata": {
        "id": "HSYj1v1RltzK"
      },
      "source": [
        "#### Merge the results with the initial dataset to ease the data analysis"
      ]
    },
    {
      "cell_type": "code",
      "execution_count": null,
      "metadata": {
        "id": "brFEbfrfltzK"
      },
      "outputs": [],
      "source": [
        "df_adresses=df_adresses.rename(columns={'school':'centre'})"
      ]
    },
    {
      "cell_type": "code",
      "execution_count": null,
      "metadata": {
        "id": "REvQxV-PltzK"
      },
      "outputs": [],
      "source": [
        "df_inici_geoloc = pd.merge(data_complete,df_adresses,on='centre')"
      ]
    },
    {
      "cell_type": "code",
      "execution_count": null,
      "metadata": {
        "id": "QXjK1aS-ltzL"
      },
      "outputs": [],
      "source": [
        "df_inici_geoloc=df_inici_geoloc.drop_duplicates(ignore_index=True)"
      ]
    },
    {
      "cell_type": "code",
      "execution_count": null,
      "metadata": {
        "id": "yL7-Jj9mltzL"
      },
      "outputs": [],
      "source": [
        "df = df_inici_geoloc.sort_values(by='n').reset_index(drop=True)"
      ]
    },
    {
      "cell_type": "code",
      "execution_count": null,
      "metadata": {
        "id": "wpvNg7DkltzM"
      },
      "outputs": [],
      "source": [
        "df.to_csv('C:\\\\Users\\\\Usuario\\\\Desktop\\\\Data Science\\\\Visualizaciones\\\\data_nomenaments.csv', encoding='utf-8', index=False)"
      ]
    },
    {
      "cell_type": "code",
      "execution_count": null,
      "metadata": {
        "id": "sSMH8vGrltzM",
        "outputId": "2827db3f-5a0c-4e82-c965-a54c0a99fc65"
      },
      "outputs": [
        {
          "data": {
            "text/html": [
              "<div>\n",
              "<style scoped>\n",
              "    .dataframe tbody tr th:only-of-type {\n",
              "        vertical-align: middle;\n",
              "    }\n",
              "\n",
              "    .dataframe tbody tr th {\n",
              "        vertical-align: top;\n",
              "    }\n",
              "\n",
              "    .dataframe thead th {\n",
              "        text-align: right;\n",
              "    }\n",
              "</style>\n",
              "<table border=\"1\" class=\"dataframe\">\n",
              "  <thead>\n",
              "    <tr style=\"text-align: right;\">\n",
              "      <th></th>\n",
              "      <th>st</th>\n",
              "      <th>data</th>\n",
              "      <th>n</th>\n",
              "      <th>centre</th>\n",
              "      <th>inici</th>\n",
              "      <th>fi</th>\n",
              "      <th>k</th>\n",
              "      <th>proc</th>\n",
              "      <th>jornada</th>\n",
              "      <th>full_address</th>\n",
              "      <th>latitude</th>\n",
              "      <th>longitude</th>\n",
              "    </tr>\n",
              "  </thead>\n",
              "  <tbody>\n",
              "    <tr>\n",
              "      <th>0</th>\n",
              "      <td>43</td>\n",
              "      <td>2021-07-22</td>\n",
              "      <td>1</td>\n",
              "      <td>Institut Marta Mata</td>\n",
              "      <td>2021-01-09</td>\n",
              "      <td>2022-08-31</td>\n",
              "      <td>GE</td>\n",
              "      <td>ae</td>\n",
              "      <td>1.0</td>\n",
              "      <td>Carrer de Domènec Sugrañes i Gras, s/n, 43840 ...</td>\n",
              "      <td>41.083044</td>\n",
              "      <td>1.127544</td>\n",
              "    </tr>\n",
              "    <tr>\n",
              "      <th>1</th>\n",
              "      <td>17</td>\n",
              "      <td>2021-01-09</td>\n",
              "      <td>2</td>\n",
              "      <td>Institut - Jaume Vicens Vives (Girona)</td>\n",
              "      <td>2021-02-09</td>\n",
              "      <td>2021-01-11</td>\n",
              "      <td>PSI</td>\n",
              "      <td>nt</td>\n",
              "      <td>1.0</td>\n",
              "      <td>Carrer Muntanya, 36, 17004 Girona, Spain</td>\n",
              "      <td>41.978411</td>\n",
              "      <td>2.826081</td>\n",
              "    </tr>\n",
              "    <tr>\n",
              "      <th>2</th>\n",
              "      <td>4</td>\n",
              "      <td>2021-08-26</td>\n",
              "      <td>3</td>\n",
              "      <td>Institut - Can Jofresa (Terrassa)</td>\n",
              "      <td>2021-01-09</td>\n",
              "      <td>2022-08-31</td>\n",
              "      <td>DI</td>\n",
              "      <td>nt</td>\n",
              "      <td>1.0</td>\n",
              "      <td>Avinguda de Can Jofresa, 12, 08223 Terrassa, B...</td>\n",
              "      <td>41.549927</td>\n",
              "      <td>2.021718</td>\n",
              "    </tr>\n",
              "    <tr>\n",
              "      <th>3</th>\n",
              "      <td>2</td>\n",
              "      <td>2021-07-22</td>\n",
              "      <td>5</td>\n",
              "      <td>Institut Pedraforca</td>\n",
              "      <td>2021-01-09</td>\n",
              "      <td>2022-08-31</td>\n",
              "      <td>LE</td>\n",
              "      <td>ae</td>\n",
              "      <td>1.0</td>\n",
              "      <td>C. Enginyer Moncunill, 2, 08905 L'Hospitalet d...</td>\n",
              "      <td>41.372780</td>\n",
              "      <td>2.111827</td>\n",
              "    </tr>\n",
              "    <tr>\n",
              "      <th>4</th>\n",
              "      <td>1</td>\n",
              "      <td>2021-07-22</td>\n",
              "      <td>6</td>\n",
              "      <td>Institut Pablo R. Picasso</td>\n",
              "      <td>2021-01-09</td>\n",
              "      <td>2022-08-31</td>\n",
              "      <td>GE</td>\n",
              "      <td>ae</td>\n",
              "      <td>1.0</td>\n",
              "      <td>Carrer de Sant Feliu de Codines, 1, 08033 Barc...</td>\n",
              "      <td>41.459832</td>\n",
              "      <td>2.180007</td>\n",
              "    </tr>\n",
              "  </tbody>\n",
              "</table>\n",
              "</div>"
            ],
            "text/plain": [
              "   st        data  n                                  centre       inici  \\\n",
              "0  43  2021-07-22  1                     Institut Marta Mata  2021-01-09   \n",
              "1  17  2021-01-09  2  Institut - Jaume Vicens Vives (Girona)  2021-02-09   \n",
              "2   4  2021-08-26  3       Institut - Can Jofresa (Terrassa)  2021-01-09   \n",
              "3   2  2021-07-22  5                     Institut Pedraforca  2021-01-09   \n",
              "4   1  2021-07-22  6               Institut Pablo R. Picasso  2021-01-09   \n",
              "\n",
              "           fi    k proc  jornada  \\\n",
              "0  2022-08-31   GE   ae      1.0   \n",
              "1  2021-01-11  PSI   nt      1.0   \n",
              "2  2022-08-31   DI   nt      1.0   \n",
              "3  2022-08-31   LE   ae      1.0   \n",
              "4  2022-08-31   GE   ae      1.0   \n",
              "\n",
              "                                        full_address   latitude  longitude  \n",
              "0  Carrer de Domènec Sugrañes i Gras, s/n, 43840 ...  41.083044   1.127544  \n",
              "1           Carrer Muntanya, 36, 17004 Girona, Spain  41.978411   2.826081  \n",
              "2  Avinguda de Can Jofresa, 12, 08223 Terrassa, B...  41.549927   2.021718  \n",
              "3  C. Enginyer Moncunill, 2, 08905 L'Hospitalet d...  41.372780   2.111827  \n",
              "4  Carrer de Sant Feliu de Codines, 1, 08033 Barc...  41.459832   2.180007  "
            ]
          },
          "execution_count": 46,
          "metadata": {},
          "output_type": "execute_result"
        }
      ],
      "source": [
        "df= pd.read_csv('C:\\\\Users\\\\Usuario\\\\Desktop\\\\Data Science\\\\Visualizaciones\\\\data_nomenaments.csv')\n",
        "df.head()"
      ]
    },
    {
      "cell_type": "markdown",
      "metadata": {
        "id": "Z3GlwZUlltzN"
      },
      "source": [
        "### Further data cleaning"
      ]
    },
    {
      "cell_type": "markdown",
      "metadata": {
        "id": "8YXrsodlltzN"
      },
      "source": [
        "It can happen that the name of a school has benn written in a different maner. Now we can check that two schools with different name notation, if they are sharing the same full address, then the two centers have to be the same."
      ]
    },
    {
      "cell_type": "code",
      "execution_count": null,
      "metadata": {
        "id": "CseV5D8oltzN"
      },
      "outputs": [],
      "source": [
        "iterator= len(df.groupby(by=\"full_address\").agg({\"centre\": \"nunique\"})['centre'])\n",
        "\n",
        "df_group = df.groupby(by=\"full_address\").agg({\"centre\": \"nunique\"})['centre']\n",
        "\n",
        "names_to_check=[]\n",
        "\n",
        "for i in range(iterator):\n",
        "    if df_group[i]!=1:\n",
        "        names_to_check.append(df_group.index[i])\n"
      ]
    },
    {
      "cell_type": "code",
      "execution_count": null,
      "metadata": {
        "id": "oMVLb24OltzO"
      },
      "outputs": [],
      "source": [
        "for ad_to_check in names_to_check:\n",
        "    new_name = df[df['full_address'] == ad_to_check]['centre'].iloc[0]\n",
        "    df.loc[df.full_address == ad_to_check, 'centre'] = new_name"
      ]
    },
    {
      "cell_type": "code",
      "execution_count": null,
      "metadata": {
        "id": "IIQ_fBLdltzO",
        "outputId": "e756295d-2430-4279-c728-97ed73995e4c"
      },
      "outputs": [
        {
          "data": {
            "text/html": [
              "<div>\n",
              "<style scoped>\n",
              "    .dataframe tbody tr th:only-of-type {\n",
              "        vertical-align: middle;\n",
              "    }\n",
              "\n",
              "    .dataframe tbody tr th {\n",
              "        vertical-align: top;\n",
              "    }\n",
              "\n",
              "    .dataframe thead th {\n",
              "        text-align: right;\n",
              "    }\n",
              "</style>\n",
              "<table border=\"1\" class=\"dataframe\">\n",
              "  <thead>\n",
              "    <tr style=\"text-align: right;\">\n",
              "      <th></th>\n",
              "      <th>st</th>\n",
              "      <th>data</th>\n",
              "      <th>n</th>\n",
              "      <th>centre</th>\n",
              "      <th>inici</th>\n",
              "      <th>fi</th>\n",
              "      <th>k</th>\n",
              "      <th>proc</th>\n",
              "      <th>jornada</th>\n",
              "      <th>full_address</th>\n",
              "      <th>latitude</th>\n",
              "      <th>longitude</th>\n",
              "    </tr>\n",
              "  </thead>\n",
              "  <tbody>\n",
              "    <tr>\n",
              "      <th>0</th>\n",
              "      <td>43</td>\n",
              "      <td>2021-07-22</td>\n",
              "      <td>1</td>\n",
              "      <td>Institut Marta Mata</td>\n",
              "      <td>2021-01-09</td>\n",
              "      <td>2022-08-31</td>\n",
              "      <td>GE</td>\n",
              "      <td>ae</td>\n",
              "      <td>1.0</td>\n",
              "      <td>Carrer de Domènec Sugrañes i Gras, s/n, 43840 ...</td>\n",
              "      <td>41.083044</td>\n",
              "      <td>1.127544</td>\n",
              "    </tr>\n",
              "    <tr>\n",
              "      <th>1</th>\n",
              "      <td>17</td>\n",
              "      <td>2021-01-09</td>\n",
              "      <td>2</td>\n",
              "      <td>Institut - Jaume Vicens Vives (Girona)</td>\n",
              "      <td>2021-02-09</td>\n",
              "      <td>2021-01-11</td>\n",
              "      <td>PSI</td>\n",
              "      <td>nt</td>\n",
              "      <td>1.0</td>\n",
              "      <td>Carrer Muntanya, 36, 17004 Girona, Spain</td>\n",
              "      <td>41.978411</td>\n",
              "      <td>2.826081</td>\n",
              "    </tr>\n",
              "    <tr>\n",
              "      <th>2</th>\n",
              "      <td>4</td>\n",
              "      <td>2021-08-26</td>\n",
              "      <td>3</td>\n",
              "      <td>Institut - Can Jofresa (Terrassa)</td>\n",
              "      <td>2021-01-09</td>\n",
              "      <td>2022-08-31</td>\n",
              "      <td>DI</td>\n",
              "      <td>nt</td>\n",
              "      <td>1.0</td>\n",
              "      <td>Avinguda de Can Jofresa, 12, 08223 Terrassa, B...</td>\n",
              "      <td>41.549927</td>\n",
              "      <td>2.021718</td>\n",
              "    </tr>\n",
              "    <tr>\n",
              "      <th>3</th>\n",
              "      <td>2</td>\n",
              "      <td>2021-07-22</td>\n",
              "      <td>5</td>\n",
              "      <td>Institut Pedraforca</td>\n",
              "      <td>2021-01-09</td>\n",
              "      <td>2022-08-31</td>\n",
              "      <td>LE</td>\n",
              "      <td>ae</td>\n",
              "      <td>1.0</td>\n",
              "      <td>C. Enginyer Moncunill, 2, 08905 L'Hospitalet d...</td>\n",
              "      <td>41.372780</td>\n",
              "      <td>2.111827</td>\n",
              "    </tr>\n",
              "    <tr>\n",
              "      <th>4</th>\n",
              "      <td>1</td>\n",
              "      <td>2021-07-22</td>\n",
              "      <td>6</td>\n",
              "      <td>Institut Pablo R. Picasso</td>\n",
              "      <td>2021-01-09</td>\n",
              "      <td>2022-08-31</td>\n",
              "      <td>GE</td>\n",
              "      <td>ae</td>\n",
              "      <td>1.0</td>\n",
              "      <td>Carrer de Sant Feliu de Codines, 1, 08033 Barc...</td>\n",
              "      <td>41.459832</td>\n",
              "      <td>2.180007</td>\n",
              "    </tr>\n",
              "  </tbody>\n",
              "</table>\n",
              "</div>"
            ],
            "text/plain": [
              "   st        data  n                                  centre       inici  \\\n",
              "0  43  2021-07-22  1                     Institut Marta Mata  2021-01-09   \n",
              "1  17  2021-01-09  2  Institut - Jaume Vicens Vives (Girona)  2021-02-09   \n",
              "2   4  2021-08-26  3       Institut - Can Jofresa (Terrassa)  2021-01-09   \n",
              "3   2  2021-07-22  5                     Institut Pedraforca  2021-01-09   \n",
              "4   1  2021-07-22  6               Institut Pablo R. Picasso  2021-01-09   \n",
              "\n",
              "           fi    k proc  jornada  \\\n",
              "0  2022-08-31   GE   ae      1.0   \n",
              "1  2021-01-11  PSI   nt      1.0   \n",
              "2  2022-08-31   DI   nt      1.0   \n",
              "3  2022-08-31   LE   ae      1.0   \n",
              "4  2022-08-31   GE   ae      1.0   \n",
              "\n",
              "                                        full_address   latitude  longitude  \n",
              "0  Carrer de Domènec Sugrañes i Gras, s/n, 43840 ...  41.083044   1.127544  \n",
              "1           Carrer Muntanya, 36, 17004 Girona, Spain  41.978411   2.826081  \n",
              "2  Avinguda de Can Jofresa, 12, 08223 Terrassa, B...  41.549927   2.021718  \n",
              "3  C. Enginyer Moncunill, 2, 08905 L'Hospitalet d...  41.372780   2.111827  \n",
              "4  Carrer de Sant Feliu de Codines, 1, 08033 Barc...  41.459832   2.180007  "
            ]
          },
          "execution_count": 49,
          "metadata": {},
          "output_type": "execute_result"
        }
      ],
      "source": [
        "df.head()"
      ]
    },
    {
      "cell_type": "markdown",
      "metadata": {
        "id": "DsRL7DUOltzP"
      },
      "source": [
        "### getting back a set of unique schools"
      ]
    },
    {
      "cell_type": "code",
      "execution_count": null,
      "metadata": {
        "id": "FDl70EkqltzP",
        "outputId": "5804d937-e9bc-4b31-c451-2f528e8b86e4"
      },
      "outputs": [
        {
          "data": {
            "text/html": [
              "<div>\n",
              "<style scoped>\n",
              "    .dataframe tbody tr th:only-of-type {\n",
              "        vertical-align: middle;\n",
              "    }\n",
              "\n",
              "    .dataframe tbody tr th {\n",
              "        vertical-align: top;\n",
              "    }\n",
              "\n",
              "    .dataframe thead th {\n",
              "        text-align: right;\n",
              "    }\n",
              "</style>\n",
              "<table border=\"1\" class=\"dataframe\">\n",
              "  <thead>\n",
              "    <tr style=\"text-align: right;\">\n",
              "      <th></th>\n",
              "      <th>centre</th>\n",
              "      <th>full_address</th>\n",
              "      <th>latitude</th>\n",
              "      <th>longitude</th>\n",
              "    </tr>\n",
              "  </thead>\n",
              "  <tbody>\n",
              "    <tr>\n",
              "      <th>0</th>\n",
              "      <td>Institut Marta Mata</td>\n",
              "      <td>Carrer de Domènec Sugrañes i Gras, s/n, 43840 ...</td>\n",
              "      <td>41.083044</td>\n",
              "      <td>1.127544</td>\n",
              "    </tr>\n",
              "    <tr>\n",
              "      <th>1</th>\n",
              "      <td>Institut - Jaume Vicens Vives (Girona)</td>\n",
              "      <td>Carrer Muntanya, 36, 17004 Girona, Spain</td>\n",
              "      <td>41.978411</td>\n",
              "      <td>2.826081</td>\n",
              "    </tr>\n",
              "    <tr>\n",
              "      <th>2</th>\n",
              "      <td>Institut - Can Jofresa (Terrassa)</td>\n",
              "      <td>Avinguda de Can Jofresa, 12, 08223 Terrassa, B...</td>\n",
              "      <td>41.549927</td>\n",
              "      <td>2.021718</td>\n",
              "    </tr>\n",
              "    <tr>\n",
              "      <th>3</th>\n",
              "      <td>Institut Pedraforca</td>\n",
              "      <td>C. Enginyer Moncunill, 2, 08905 L'Hospitalet d...</td>\n",
              "      <td>41.372780</td>\n",
              "      <td>2.111827</td>\n",
              "    </tr>\n",
              "    <tr>\n",
              "      <th>4</th>\n",
              "      <td>Institut Pablo R. Picasso</td>\n",
              "      <td>Carrer de Sant Feliu de Codines, 1, 08033 Barc...</td>\n",
              "      <td>41.459832</td>\n",
              "      <td>2.180007</td>\n",
              "    </tr>\n",
              "  </tbody>\n",
              "</table>\n",
              "</div>"
            ],
            "text/plain": [
              "                                   centre  \\\n",
              "0                     Institut Marta Mata   \n",
              "1  Institut - Jaume Vicens Vives (Girona)   \n",
              "2       Institut - Can Jofresa (Terrassa)   \n",
              "3                     Institut Pedraforca   \n",
              "4               Institut Pablo R. Picasso   \n",
              "\n",
              "                                        full_address   latitude  longitude  \n",
              "0  Carrer de Domènec Sugrañes i Gras, s/n, 43840 ...  41.083044   1.127544  \n",
              "1           Carrer Muntanya, 36, 17004 Girona, Spain  41.978411   2.826081  \n",
              "2  Avinguda de Can Jofresa, 12, 08223 Terrassa, B...  41.549927   2.021718  \n",
              "3  C. Enginyer Moncunill, 2, 08905 L'Hospitalet d...  41.372780   2.111827  \n",
              "4  Carrer de Sant Feliu de Codines, 1, 08033 Barc...  41.459832   2.180007  "
            ]
          },
          "execution_count": 57,
          "metadata": {},
          "output_type": "execute_result"
        }
      ],
      "source": [
        "df_centers = df[[\"centre\",'full_address','latitude','longitude']].drop_duplicates(ignore_index=True)\n",
        "\n",
        "df_centers.head()"
      ]
    },
    {
      "cell_type": "markdown",
      "metadata": {
        "id": "8cAdO3_TltzP"
      },
      "source": [
        "### Imposible coordinates for Barcelona"
      ]
    },
    {
      "cell_type": "code",
      "execution_count": null,
      "metadata": {
        "id": "lqKNQThJltzQ",
        "outputId": "f936680f-c50f-403d-9194-c183b2ba0293"
      },
      "outputs": [
        {
          "data": {
            "text/html": [
              "<div>\n",
              "<style scoped>\n",
              "    .dataframe tbody tr th:only-of-type {\n",
              "        vertical-align: middle;\n",
              "    }\n",
              "\n",
              "    .dataframe tbody tr th {\n",
              "        vertical-align: top;\n",
              "    }\n",
              "\n",
              "    .dataframe thead th {\n",
              "        text-align: right;\n",
              "    }\n",
              "</style>\n",
              "<table border=\"1\" class=\"dataframe\">\n",
              "  <thead>\n",
              "    <tr style=\"text-align: right;\">\n",
              "      <th></th>\n",
              "      <th>centre</th>\n",
              "      <th>full_address</th>\n",
              "      <th>latitude</th>\n",
              "      <th>longitude</th>\n",
              "    </tr>\n",
              "  </thead>\n",
              "  <tbody>\n",
              "    <tr>\n",
              "      <th>119</th>\n",
              "      <td>Escola de la Valldan</td>\n",
              "      <td>Carrer Cid Campeador, 2, 46760 Tavernes de la ...</td>\n",
              "      <td>39.075663</td>\n",
              "      <td>-0.261165</td>\n",
              "    </tr>\n",
              "    <tr>\n",
              "      <th>203</th>\n",
              "      <td>Escola Palma de Mallorca</td>\n",
              "      <td>Carrer de Son Ventallol, 13, 07005 Palma, Ille...</td>\n",
              "      <td>39.579517</td>\n",
              "      <td>2.662295</td>\n",
              "    </tr>\n",
              "    <tr>\n",
              "      <th>368</th>\n",
              "      <td>Institut Valldemossa</td>\n",
              "      <td>Carrer Rectoria, 1, 07170 Valldemossa, Illes B...</td>\n",
              "      <td>39.710358</td>\n",
              "      <td>2.625424</td>\n",
              "    </tr>\n",
              "    <tr>\n",
              "      <th>829</th>\n",
              "      <td>Escola Eugeni d'Ors</td>\n",
              "      <td>Carrer Alfredo Sánchez Torres, 10, 03206 Elx, ...</td>\n",
              "      <td>38.278453</td>\n",
              "      <td>-0.711981</td>\n",
              "    </tr>\n",
              "    <tr>\n",
              "      <th>1238</th>\n",
              "      <td>Escola Les Arenes</td>\n",
              "      <td>C. Casas Lanuza, 2, 46011 Valencia, Spain</td>\n",
              "      <td>39.467335</td>\n",
              "      <td>-0.327363</td>\n",
              "    </tr>\n",
              "    <tr>\n",
              "      <th>1841</th>\n",
              "      <td>Escola de Cabanes</td>\n",
              "      <td>Carrer Sufera, 54, 12180 Cabanes, Castelló, Spain</td>\n",
              "      <td>40.153724</td>\n",
              "      <td>0.049101</td>\n",
              "    </tr>\n",
              "    <tr>\n",
              "      <th>1993</th>\n",
              "      <td>Escola Sant Llorenç</td>\n",
              "      <td>Carrer de Ses Escoles, 07530 Sant Llorenç des ...</td>\n",
              "      <td>39.613405</td>\n",
              "      <td>3.287981</td>\n",
              "    </tr>\n",
              "    <tr>\n",
              "      <th>2003</th>\n",
              "      <td>Escola Sant Mateu</td>\n",
              "      <td>Av. Racó de la Marquesa, 9, 12170 Sant Mateu, ...</td>\n",
              "      <td>40.462794</td>\n",
              "      <td>0.181307</td>\n",
              "    </tr>\n",
              "    <tr>\n",
              "      <th>2044</th>\n",
              "      <td>CFA Madrid</td>\n",
              "      <td>C. de Bravo Murillo, 157, 28020 Madrid, Spain</td>\n",
              "      <td>40.451795</td>\n",
              "      <td>-3.703445</td>\n",
              "    </tr>\n",
              "    <tr>\n",
              "      <th>2304</th>\n",
              "      <td>Escola El Drac</td>\n",
              "      <td>C. Méndez Núñez, 23, 46901 Torrent, Valencia, ...</td>\n",
              "      <td>39.420190</td>\n",
              "      <td>-0.500090</td>\n",
              "    </tr>\n",
              "    <tr>\n",
              "      <th>2504</th>\n",
              "      <td>Escola Sant Isidre</td>\n",
              "      <td>Carrer de José Andreu Alabarta, 43, 46014 Valè...</td>\n",
              "      <td>39.451876</td>\n",
              "      <td>-0.403225</td>\n",
              "    </tr>\n",
              "    <tr>\n",
              "      <th>2561</th>\n",
              "      <td>I. Montserrat Roig</td>\n",
              "      <td>Calle Carlet, 2, 03206 Elche, Alicante, Spain</td>\n",
              "      <td>38.279090</td>\n",
              "      <td>-0.706633</td>\n",
              "    </tr>\n",
              "    <tr>\n",
              "      <th>2592</th>\n",
              "      <td>CREDA</td>\n",
              "      <td>40035 Creda, Metropolitan City of Bologna, Italy</td>\n",
              "      <td>44.192179</td>\n",
              "      <td>11.171533</td>\n",
              "    </tr>\n",
              "    <tr>\n",
              "      <th>2624</th>\n",
              "      <td>I. Voltrera</td>\n",
              "      <td>56048 Volterra, Province of Pisa, Italy</td>\n",
              "      <td>43.399395</td>\n",
              "      <td>10.866033</td>\n",
              "    </tr>\n",
              "    <tr>\n",
              "      <th>2639</th>\n",
              "      <td>I. De Corbera</td>\n",
              "      <td>46612 Corbera, Valencia, Spain</td>\n",
              "      <td>39.158387</td>\n",
              "      <td>-0.353067</td>\n",
              "    </tr>\n",
              "    <tr>\n",
              "      <th>2643</th>\n",
              "      <td>I. de Castellar</td>\n",
              "      <td>Calle del Rosario, 3, 11350 Castellar de la Fr...</td>\n",
              "      <td>36.318838</td>\n",
              "      <td>-5.453035</td>\n",
              "    </tr>\n",
              "    <tr>\n",
              "      <th>2658</th>\n",
              "      <td>I.La Serreta</td>\n",
              "      <td>30500 Molina de Segura, Murcia, Spain</td>\n",
              "      <td>38.086252</td>\n",
              "      <td>-1.234644</td>\n",
              "    </tr>\n",
              "    <tr>\n",
              "      <th>2662</th>\n",
              "      <td>E. Sant Vicenç</td>\n",
              "      <td>Cala Sant Vicenç, Balearic Islands, Spain</td>\n",
              "      <td>39.918122</td>\n",
              "      <td>3.053937</td>\n",
              "    </tr>\n",
              "  </tbody>\n",
              "</table>\n",
              "</div>"
            ],
            "text/plain": [
              "                        centre  \\\n",
              "119       Escola de la Valldan   \n",
              "203   Escola Palma de Mallorca   \n",
              "368       Institut Valldemossa   \n",
              "829        Escola Eugeni d'Ors   \n",
              "1238         Escola Les Arenes   \n",
              "1841         Escola de Cabanes   \n",
              "1993       Escola Sant Llorenç   \n",
              "2003         Escola Sant Mateu   \n",
              "2044                CFA Madrid   \n",
              "2304            Escola El Drac   \n",
              "2504        Escola Sant Isidre   \n",
              "2561        I. Montserrat Roig   \n",
              "2592                     CREDA   \n",
              "2624               I. Voltrera   \n",
              "2639             I. De Corbera   \n",
              "2643           I. de Castellar   \n",
              "2658              I.La Serreta   \n",
              "2662            E. Sant Vicenç   \n",
              "\n",
              "                                           full_address   latitude  longitude  \n",
              "119   Carrer Cid Campeador, 2, 46760 Tavernes de la ...  39.075663  -0.261165  \n",
              "203   Carrer de Son Ventallol, 13, 07005 Palma, Ille...  39.579517   2.662295  \n",
              "368   Carrer Rectoria, 1, 07170 Valldemossa, Illes B...  39.710358   2.625424  \n",
              "829   Carrer Alfredo Sánchez Torres, 10, 03206 Elx, ...  38.278453  -0.711981  \n",
              "1238          C. Casas Lanuza, 2, 46011 Valencia, Spain  39.467335  -0.327363  \n",
              "1841  Carrer Sufera, 54, 12180 Cabanes, Castelló, Spain  40.153724   0.049101  \n",
              "1993  Carrer de Ses Escoles, 07530 Sant Llorenç des ...  39.613405   3.287981  \n",
              "2003  Av. Racó de la Marquesa, 9, 12170 Sant Mateu, ...  40.462794   0.181307  \n",
              "2044      C. de Bravo Murillo, 157, 28020 Madrid, Spain  40.451795  -3.703445  \n",
              "2304  C. Méndez Núñez, 23, 46901 Torrent, Valencia, ...  39.420190  -0.500090  \n",
              "2504  Carrer de José Andreu Alabarta, 43, 46014 Valè...  39.451876  -0.403225  \n",
              "2561      Calle Carlet, 2, 03206 Elche, Alicante, Spain  38.279090  -0.706633  \n",
              "2592   40035 Creda, Metropolitan City of Bologna, Italy  44.192179  11.171533  \n",
              "2624            56048 Volterra, Province of Pisa, Italy  43.399395  10.866033  \n",
              "2639                     46612 Corbera, Valencia, Spain  39.158387  -0.353067  \n",
              "2643  Calle del Rosario, 3, 11350 Castellar de la Fr...  36.318838  -5.453035  \n",
              "2658              30500 Molina de Segura, Murcia, Spain  38.086252  -1.234644  \n",
              "2662          Cala Sant Vicenç, Balearic Islands, Spain  39.918122   3.053937  "
            ]
          },
          "execution_count": 58,
          "metadata": {},
          "output_type": "execute_result"
        }
      ],
      "source": [
        "df_centers.loc[(df_centers['latitude']<40.5)|(df_centers['latitude']>42.9)]"
      ]
    },
    {
      "cell_type": "markdown",
      "metadata": {
        "id": "wT-WwSyYltzQ"
      },
      "source": [
        "### Fine tunning google search"
      ]
    },
    {
      "cell_type": "code",
      "execution_count": null,
      "metadata": {
        "id": "Z-28Q4s2ltzQ",
        "outputId": "5b25730e-ac89-4790-c12d-cb21b7a2d1d5"
      },
      "outputs": [
        {
          "name": "stderr",
          "output_type": "stream",
          "text": [
            "100%|██████████| 2670/2670 [00:13<00:00, 200.51it/s]\n"
          ]
        }
      ],
      "source": [
        "iterator = len(df_centers)\n",
        "\n",
        "for i in tqdm(range(iterator)):\n",
        "    if df_centers['latitude'].iloc[i]<40.5 or df_centers['latitude'].iloc[i]>42.9:\n",
        "        name = df_centers['centre'].iloc[i]\n",
        "        school = name+\", Catalunya\"\n",
        "        val = get_dir_from_google_maps(school)\n",
        "        df_centers.loc[df_centers.centre == name, 'full_address'] =val[0]\n",
        "        df_centers.loc[df_centers.centre == name, 'latitude'] =val[1]\n",
        "        df_centers.loc[df_centers.centre == name, 'longitude'] =val[2]"
      ]
    },
    {
      "cell_type": "code",
      "execution_count": null,
      "metadata": {
        "id": "H2Iycy6rltzR",
        "outputId": "5ac95fb9-1e61-4904-f7b3-42e4f9ae0b09"
      },
      "outputs": [
        {
          "data": {
            "text/html": [
              "<div>\n",
              "<style scoped>\n",
              "    .dataframe tbody tr th:only-of-type {\n",
              "        vertical-align: middle;\n",
              "    }\n",
              "\n",
              "    .dataframe tbody tr th {\n",
              "        vertical-align: top;\n",
              "    }\n",
              "\n",
              "    .dataframe thead th {\n",
              "        text-align: right;\n",
              "    }\n",
              "</style>\n",
              "<table border=\"1\" class=\"dataframe\">\n",
              "  <thead>\n",
              "    <tr style=\"text-align: right;\">\n",
              "      <th></th>\n",
              "      <th>centre</th>\n",
              "      <th>full_address</th>\n",
              "      <th>latitude</th>\n",
              "      <th>longitude</th>\n",
              "    </tr>\n",
              "  </thead>\n",
              "  <tbody>\n",
              "  </tbody>\n",
              "</table>\n",
              "</div>"
            ],
            "text/plain": [
              "Empty DataFrame\n",
              "Columns: [centre, full_address, latitude, longitude]\n",
              "Index: []"
            ]
          },
          "execution_count": 64,
          "metadata": {},
          "output_type": "execute_result"
        }
      ],
      "source": [
        "#No more impossible values\n",
        "df_centers.loc[(df_centers['latitude']<40.5)|(df_centers['latitude']>42.9)]"
      ]
    },
    {
      "cell_type": "code",
      "execution_count": null,
      "metadata": {
        "id": "qfwTKHx3ltzR"
      },
      "outputs": [],
      "source": [
        "with open('df_centers.pickle', 'wb') as handle:\n",
        "    pickle.dump(df_centers, handle)"
      ]
    },
    {
      "cell_type": "code",
      "execution_count": null,
      "metadata": {
        "id": "QpLGjhqfltzR"
      },
      "outputs": [],
      "source": [
        "df_work =  pd.merge(data_complete,df_centers, how = 'left' ,on='centre').sort_values(by='n',ignore_index=True)"
      ]
    },
    {
      "cell_type": "code",
      "execution_count": null,
      "metadata": {
        "id": "m0lrTsVOltzR"
      },
      "outputs": [],
      "source": [
        "iterator= len(df_work.groupby(by=\"full_address\").agg({\"centre\": \"nunique\"})['centre'])\n",
        "\n",
        "df_group = df_work.groupby(by=\"full_address\").agg({\"centre\": \"nunique\"})['centre']\n",
        "\n",
        "names_to_check=[]\n",
        "\n",
        "for i in range(iterator):\n",
        "    if df_group[i]!=1:\n",
        "        names_to_check.append(df_group.index[i])\n",
        "\n",
        "for ad_to_check in names_to_check:\n",
        "    new_name = df_work[df_work['full_address'] == ad_to_check]['centre'].iloc[0]\n",
        "    df_work.loc[df_work.full_address == ad_to_check, 'centre'] = new_name"
      ]
    },
    {
      "cell_type": "code",
      "execution_count": null,
      "metadata": {
        "id": "hjJI9AwbltzR"
      },
      "outputs": [],
      "source": [
        "df_st = df_st.rename(columns={'key':'st'})"
      ]
    },
    {
      "cell_type": "code",
      "execution_count": null,
      "metadata": {
        "id": "emTI81eYltzS"
      },
      "outputs": [],
      "source": [
        "df_work =  pd.merge(df_work,df_st, how = 'left' ,on='st').sort_values(by='n',ignore_index=True)"
      ]
    },
    {
      "cell_type": "code",
      "execution_count": null,
      "metadata": {
        "id": "YsG9VKr3ltzS"
      },
      "outputs": [],
      "source": [
        "df_work.to_csv('C:\\\\Users\\\\Usuario\\\\Desktop\\\\Data Science\\\\Visualizaciones\\\\data_nomenaments_tots.csv', encoding='utf-8', index=False)"
      ]
    },
    {
      "cell_type": "markdown",
      "metadata": {
        "id": "bSm6H9rkltzS"
      },
      "source": [
        "# Working Time"
      ]
    },
    {
      "cell_type": "code",
      "execution_count": null,
      "metadata": {
        "id": "9A6x9icBltzS"
      },
      "outputs": [],
      "source": [
        "df_work['tiempo_total']=df_work['fi']-df_work['inici']"
      ]
    },
    {
      "cell_type": "code",
      "execution_count": null,
      "metadata": {
        "id": "BY6nXnE-ltzT"
      },
      "outputs": [],
      "source": [
        "df_work['tiempo_total']=df_work['tiempo_total'].apply(lambda x: x.days)"
      ]
    },
    {
      "cell_type": "code",
      "execution_count": null,
      "metadata": {
        "id": "TLOKIYZ1ltzT"
      },
      "outputs": [],
      "source": [
        "df_work['tiempo_total']=df_work['tiempo_total'].apply(lambda x: x if x>5 else np.nan)"
      ]
    },
    {
      "cell_type": "code",
      "execution_count": null,
      "metadata": {
        "id": "EeSs3I9-ltzT"
      },
      "outputs": [],
      "source": [
        "df_time = df_work.dropna(axis=0, subset=['tiempo_total']).reset_index(drop=True)"
      ]
    },
    {
      "cell_type": "code",
      "execution_count": null,
      "metadata": {
        "id": "qAGiDoDbltzU",
        "outputId": "ed37d5c0-c286-4190-86f8-85549f775496"
      },
      "outputs": [
        {
          "data": {
            "text/html": [
              "<div>\n",
              "<style scoped>\n",
              "    .dataframe tbody tr th:only-of-type {\n",
              "        vertical-align: middle;\n",
              "    }\n",
              "\n",
              "    .dataframe tbody tr th {\n",
              "        vertical-align: top;\n",
              "    }\n",
              "\n",
              "    .dataframe thead th {\n",
              "        text-align: right;\n",
              "    }\n",
              "</style>\n",
              "<table border=\"1\" class=\"dataframe\">\n",
              "  <thead>\n",
              "    <tr style=\"text-align: right;\">\n",
              "      <th></th>\n",
              "      <th>n</th>\n",
              "      <th>servei_territorial</th>\n",
              "      <th>k</th>\n",
              "      <th>tiempo_total</th>\n",
              "    </tr>\n",
              "  </thead>\n",
              "  <tbody>\n",
              "    <tr>\n",
              "      <th>40576</th>\n",
              "      <td>201476</td>\n",
              "      <td>Maresme Vallès Or</td>\n",
              "      <td>618</td>\n",
              "      <td>41.0</td>\n",
              "    </tr>\n",
              "    <tr>\n",
              "      <th>40577</th>\n",
              "      <td>201489</td>\n",
              "      <td>Maresme Vallès Or</td>\n",
              "      <td>MA</td>\n",
              "      <td>11.0</td>\n",
              "    </tr>\n",
              "    <tr>\n",
              "      <th>40578</th>\n",
              "      <td>201517</td>\n",
              "      <td>Maresme Vallès Or</td>\n",
              "      <td>609</td>\n",
              "      <td>11.0</td>\n",
              "    </tr>\n",
              "    <tr>\n",
              "      <th>40579</th>\n",
              "      <td>900000</td>\n",
              "      <td>Girona</td>\n",
              "      <td>PSI</td>\n",
              "      <td>294.0</td>\n",
              "    </tr>\n",
              "    <tr>\n",
              "      <th>40580</th>\n",
              "      <td>900000</td>\n",
              "      <td>Vallès Occidental</td>\n",
              "      <td>602</td>\n",
              "      <td>341.0</td>\n",
              "    </tr>\n",
              "  </tbody>\n",
              "</table>\n",
              "</div>"
            ],
            "text/plain": [
              "            n servei_territorial    k  tiempo_total\n",
              "40576  201476  Maresme Vallès Or  618          41.0\n",
              "40577  201489  Maresme Vallès Or   MA          11.0\n",
              "40578  201517  Maresme Vallès Or  609          11.0\n",
              "40579  900000             Girona  PSI         294.0\n",
              "40580  900000  Vallès Occidental  602         341.0"
            ]
          },
          "execution_count": 202,
          "metadata": {},
          "output_type": "execute_result"
        }
      ],
      "source": [
        "df_time_agg=df_time.groupby(by=['n','servei_territorial','k']).agg({\"tiempo_total\":\"mean\"}).reset_index()\n",
        "df_time_agg.tail()"
      ]
    },
    {
      "cell_type": "code",
      "execution_count": null,
      "metadata": {
        "id": "Uv6eoAbqltzU"
      },
      "outputs": [],
      "source": [
        "df_time_agg.to_csv('C:\\\\Users\\\\Usuario\\\\Desktop\\\\Data Science\\\\Visualizaciones\\\\data_nomenaments_temps.csv', encoding='utf-8', index=False)"
      ]
    },
    {
      "cell_type": "code",
      "execution_count": null,
      "metadata": {
        "id": "EqzAZbjVltzV",
        "outputId": "861b47f9-f350-413c-d1d3-bf47644700db"
      },
      "outputs": [
        {
          "data": {
            "text/plain": [
              "<AxesSubplot:xlabel='n', ylabel='tiempo_total'>"
            ]
          },
          "execution_count": 203,
          "metadata": {},
          "output_type": "execute_result"
        },
        {
          "data": {
            "image/png": "[encoded data removed]",
            "text/plain": [
              "<Figure size 432x288 with 1 Axes>"
            ]
          },
          "metadata": {
            "needs_background": "light"
          },
          "output_type": "display_data"
        }
      ],
      "source": [
        "df_time_agg[df_time_agg['n']<60_000].plot.scatter(x='n',y='tiempo_total')"
      ]
    },
    {
      "cell_type": "markdown",
      "metadata": {
        "id": "U24LLU9CltzW"
      },
      "source": [
        "* No visible relation"
      ]
    },
    {
      "cell_type": "markdown",
      "metadata": {
        "id": "XfXqAjb_ltzW"
      },
      "source": [
        "# Número"
      ]
    },
    {
      "cell_type": "markdown",
      "metadata": {
        "id": "LZys9e51ltzW"
      },
      "source": [
        "## Total working people by servei territorial"
      ]
    },
    {
      "cell_type": "markdown",
      "metadata": {
        "id": "qoRYX7QLltzW"
      },
      "source": [
        "### At inici, first month"
      ]
    },
    {
      "cell_type": "code",
      "execution_count": null,
      "metadata": {
        "id": "BsKx_09altzW",
        "outputId": "c8ed3d53-b984-4c04-f250-9df760d50e8c"
      },
      "outputs": [
        {
          "data": {
            "image/png": "[encoded data removed]",
            "text/plain": [
              "<Figure size 432x288 with 1 Axes>"
            ]
          },
          "metadata": {
            "needs_background": "light"
          },
          "output_type": "display_data"
        }
      ],
      "source": [
        "df_inici_by_count=df_inici.groupby('st').count()/len(df_inici)*100\n",
        "\n",
        "ax =df_inici_by_count['k'].plot(kind = 'bar', title = 'Porcentajde profesores por servei territorial (inici)', ylabel = 'Porcentaje', xlabel = 'Servei territorial')\n",
        "\n",
        "for p in ax.patches:\n",
        "    ax.annotate(str(round(p.get_height(),2)), (p.get_x() * 1.05, p.get_height() * 1.005))"
      ]
    },
    {
      "cell_type": "markdown",
      "metadata": {
        "id": "-u4Hyck0ltzW"
      },
      "source": [
        "### Two months later"
      ]
    },
    {
      "cell_type": "code",
      "execution_count": null,
      "metadata": {
        "id": "r2UANz55ltzX",
        "outputId": "1cbe8232-b0df-47c2-e15a-592f7c8a8fce"
      },
      "outputs": [
        {
          "data": {
            "image/png": "[encoded data removed]",
            "text/plain": [
              "<Figure size 432x288 with 1 Axes>"
            ]
          },
          "metadata": {
            "needs_background": "light"
          },
          "output_type": "display_data"
        }
      ],
      "source": [
        "df_total_by_count=df_total.groupby('st').count()/len(df_total)*100\n",
        "\n",
        "ax =df_total_by_count['k'].plot(kind = 'bar', title = 'Porcentajde profesores por servei territorial', ylabel = 'Porcentaje', xlabel = 'Servei territorial')\n",
        "\n",
        "for p in ax.patches:\n",
        "    ax.annotate(str(round(p.get_height(),2)), (p.get_x() * 1.05, p.get_height() * 1.005))"
      ]
    },
    {
      "cell_type": "markdown",
      "metadata": {
        "id": "wEFP0hd3ltzX"
      },
      "source": [
        "### Preliminary conclusions"
      ]
    },
    {
      "cell_type": "markdown",
      "metadata": {
        "id": "j6limYPqltzY"
      },
      "source": [
        "* The percentage of people per servi territorial keeps roughtly constant trough the time period explored\n",
        "* Servei territorial 4 is the one who need more \"interins\".\n",
        "* Serveis territorials 2, 3, 5 and 17 need roughly the same amount of people and are worth to consider."
      ]
    },
    {
      "cell_type": "markdown",
      "metadata": {
        "id": "icsVsCApltzY"
      },
      "source": [
        "## How many people before me."
      ]
    },
    {
      "cell_type": "code",
      "execution_count": null,
      "metadata": {
        "id": "_P8iVstjltzY"
      },
      "outputs": [],
      "source": [
        "# order number to study\n",
        "numbers_to_discard=35_000\n",
        "order_number=45238"
      ]
    },
    {
      "cell_type": "code",
      "execution_count": null,
      "metadata": {
        "id": "AlKUhb2OltzY",
        "outputId": "95e45be6-b5ce-457b-9e22-429202563972"
      },
      "outputs": [
        {
          "name": "stderr",
          "output_type": "stream",
          "text": [
            "100%|██████████| 35000/35000 [00:08<00:00, 3943.36it/s]"
          ]
        },
        {
          "name": "stdout",
          "output_type": "stream",
          "text": [
            "3327\n"
          ]
        },
        {
          "name": "stderr",
          "output_type": "stream",
          "text": [
            "\n"
          ]
        }
      ],
      "source": [
        "# As we can see above all the people with a number  higher than 40000 seems to be working. There can be many reason for a number \n",
        "# to not appears on the list that we can not account for. To be in the safe side the numbers to discard will be above 35000 \n",
        "\n",
        "list_of_working_numebers=list(zip(df_total['n'].to_list(),df_total['st'].to_list()))\n",
        "list_of_numebers=df_total['n'].to_list()\n",
        "\n",
        "numeros_superiores_discard=0\n",
        "\n",
        "for i in tqdm(range(1,numbers_to_discard+1)):\n",
        "    if i not in list_of_numebers:\n",
        "        numeros_superiores_discard+=1\n",
        "\n",
        "print(numeros_superiores_discard)"
      ]
    },
    {
      "cell_type": "code",
      "execution_count": null,
      "metadata": {
        "id": "p8nQ6o0ultzZ",
        "outputId": "14c4cf02-6254-45a7-ccee-bbba46fdc272"
      },
      "outputs": [
        {
          "name": "stderr",
          "output_type": "stream",
          "text": [
            "100%|██████████| 45238/45238 [00:14<00:00, 3174.28it/s]\n"
          ]
        }
      ],
      "source": [
        "# I create a list of tuples to iterate over. (number,servei territorial)\n",
        "\n",
        "list_of_working_numebers=list(zip(df_total['n'].to_list(),df_total['st'].to_list()))\n",
        "list_of_numebers=df_total['n'].to_list()\n",
        "\n",
        "numeros_superiores=0\n",
        "\n",
        "for i in tqdm(range(1,order_number+1)):\n",
        "    if i not in list_of_numebers:\n",
        "        numeros_superiores+=1\n",
        "\n",
        "\n",
        "\n"
      ]
    },
    {
      "cell_type": "code",
      "execution_count": null,
      "metadata": {
        "id": "FRwza5rvltza",
        "outputId": "8c9ccd2d-ca10-4579-c6b7-b65322b6cb12"
      },
      "outputs": [
        {
          "data": {
            "text/plain": [
              "342.36"
            ]
          },
          "execution_count": 105,
          "metadata": {},
          "output_type": "execute_result"
        }
      ],
      "source": [
        "(numeros_superiores-numeros_superiores_discard)*0.12"
      ]
    },
    {
      "cell_type": "markdown",
      "metadata": {
        "id": "OF5sqTiNltza"
      },
      "source": [
        "### Number distribution by specilization"
      ]
    },
    {
      "cell_type": "code",
      "execution_count": null,
      "metadata": {
        "colab": {
          "base_uri": "https://localhost:8080/",
          "height": 362
        },
        "id": "NuLGZD_dY30t",
        "outputId": "4fb009d0-6403-4c45-f5fa-48c98cec8381"
      },
      "outputs": [
        {
          "data": {
            "image/png": "[encoded data removed]",
            "text/plain": [
              "<Figure size 432x360 with 1 Axes>"
            ]
          },
          "metadata": {
            "needs_background": "light"
          },
          "output_type": "display_data"
        }
      ],
      "source": [
        "\n",
        "\n",
        "df_esp_total=df_total.groupby('k')['k'].count()/len(df_total)*100\n",
        "\n",
        "ax=df_esp_total[df_esp_total>1].plot(kind='bar', title='Distribución de personas por especialidad', ylabel='Porcentaje',xlabel='especialidad', figsize=(6, 5))\n",
        "\n",
        "for p in ax.patches:\n",
        "    ax.annotate(str(round(p.get_height(),2)), (p.get_x() * 1.05, p.get_height() * 1.005))"
      ]
    },
    {
      "cell_type": "code",
      "execution_count": null,
      "metadata": {
        "id": "Ea6tEa4eltzb",
        "outputId": "7d0f525c-7c09-4127-e8ad-f7a0c288264e"
      },
      "outputs": [
        {
          "data": {
            "text/plain": [
              "3327"
            ]
          },
          "execution_count": 144,
          "metadata": {},
          "output_type": "execute_result"
        }
      ],
      "source": [
        "numeros_superiores_discard"
      ]
    },
    {
      "cell_type": "code",
      "execution_count": null,
      "metadata": {
        "id": "64kRmhGtltzc",
        "outputId": "39638c34-5ef5-47c7-b71a-eb3a1714ec3c"
      },
      "outputs": [
        {
          "data": {
            "text/plain": [
              "6180"
            ]
          },
          "execution_count": 143,
          "metadata": {},
          "output_type": "execute_result"
        }
      ],
      "source": [
        "numeros_superiores"
      ]
    },
    {
      "cell_type": "code",
      "execution_count": null,
      "metadata": {
        "colab": {
          "base_uri": "https://localhost:8080/"
        },
        "id": "p1WppPm-bw6q",
        "outputId": "5b428c02-b7e6-441b-b9f5-91ff706ff493"
      },
      "outputs": [
        {
          "data": {
            "text/plain": [
              "13.694400000000002"
            ]
          },
          "execution_count": 142,
          "metadata": {},
          "output_type": "execute_result"
        }
      ],
      "source": [
        "# 0.12 and 0.04 are % stracted from the plots above to stimate how many is before a particular number\n",
        "# 0.12 Is the % of teachers in the servei territorial 2\n",
        "# 0.4 is the % of techers for a specific spciality/topic in the servei territorial 2\n",
        "(numeros_superiores-numeros_superiores_discard)*0.12*0.04"
      ]
    },
    {
      "cell_type": "markdown",
      "metadata": {
        "id": "uxzZ1ZLqltzc"
      },
      "source": [
        "### Preliminary overall conclusions\n",
        "\n",
        "* The proportions keep roughtly constant trough different aggrupation settings\n",
        "* Our friend has about 13/26 potetial candidates before her (depending on considerations)"
      ]
    },
    {
      "cell_type": "markdown",
      "metadata": {
        "id": "lLfTfIjAltzd"
      },
      "source": [
        "## How long can it take before i get hired?"
      ]
    },
    {
      "cell_type": "code",
      "execution_count": null,
      "metadata": {
        "id": "rtrzOMG6Ot3t"
      },
      "outputs": [],
      "source": [
        "df_date_k=df_total[df_total['st']==2].groupby(['data','k']).count()['n'].reset_index()"
      ]
    },
    {
      "cell_type": "code",
      "execution_count": null,
      "metadata": {
        "id": "HiJh1LGzltzd",
        "outputId": "f2dd5c32-2dba-4bd4-8a2d-281514cd84bc"
      },
      "outputs": [
        {
          "data": {
            "text/plain": [
              "1.4285714285714286"
            ]
          },
          "execution_count": 91,
          "metadata": {},
          "output_type": "execute_result"
        }
      ],
      "source": [
        "# It is necessary t odiscard the first period, since it is not comparable to the rest of the year.\n",
        "np.mean(df_date_k[df_date_k['k']=='GE']['n'].tolist()[8:])"
      ]
    },
    {
      "cell_type": "code",
      "execution_count": null,
      "metadata": {
        "id": "wuw6zAavltzd",
        "outputId": "f44bd398-0303-4639-c976-e856df06cec5"
      },
      "outputs": [
        {
          "name": "stdout",
          "output_type": "stream",
          "text": [
            "She has to plan for a period of about 3.0 weeks without interin work. If I do not discard any number then se has to plan for 6.0 weeks\n"
          ]
        }
      ],
      "source": [
        "# There are 3 \"nomenaments\" per week and 1.5 nomenaments in average for the speciality/topic GE at the \"servei territorial\" 2\n",
        "\n",
        "print('She has to plan for a period of about {} weeks without interin work. If I do not discard any number then se has to plan for {} weeks'\\\n",
        ".format(round(12/(1.5*3),0),round((numeros_superiores)*0.14*0.0356/(1.5*3),0)))"
      ]
    }
  ],
  "metadata": {
    "colab": {
      "name": "Nomenaments.ipynb",
      "provenance": [],
      "include_colab_link": true
    },
    "interpreter": {
      "hash": "6c68c24c9f6dc6214c1cb1fe145e14906af977bf87c30f07fe886d1925d8ed5f"
    },
    "kernelspec": {
      "display_name": "Python 3.8.0 64-bit",
      "name": "python3"
    },
    "language_info": {
      "codemirror_mode": {
        "name": "ipython",
        "version": 3
      },
      "file_extension": ".py",
      "mimetype": "text/x-python",
      "name": "python",
      "nbconvert_exporter": "python",
      "pygments_lexer": "ipython3",
      "version": "3.8.0"
    },
    "orig_nbformat": 4
  },
  "nbformat": 4,
  "nbformat_minor": 0
}